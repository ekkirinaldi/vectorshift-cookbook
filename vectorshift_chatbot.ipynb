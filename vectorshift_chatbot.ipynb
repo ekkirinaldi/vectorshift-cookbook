{
 "cells": [
  {
   "cell_type": "markdown",
   "id": "75f4b5f1",
   "metadata": {},
   "source": [
    "# Vectorshift Chatbot\n",
    "\n",
    "## Installing Library\n",
    "\n",
    "To use the VectorShift Python library, you should be using Python 3.10 or newer.\n",
    "\n",
    "The SDK is built upon our API. To access much of the functionality, such as saving and downloading pipelines, you should already have an API key ready.\n",
    "\n",
    "Our Python SDK is available as the vectorshift package on PyPl. Before downloading, ensure you have pip installed. Then, you can simply get started by downloading the package by running the command in your terminal of choice:"
   ]
  },
  {
   "cell_type": "code",
   "execution_count": 63,
   "id": "41e3fee3-f095-4ed6-831d-2315d8a0331d",
   "metadata": {},
   "outputs": [
    {
     "name": "stdout",
     "output_type": "stream",
     "text": [
      "Requirement already satisfied: vectorshift in c:\\users\\paras\\appdata\\local\\programs\\python\\python311\\lib\\site-packages (0.0.66)\n",
      "Requirement already satisfied: networkx==3.1 in c:\\users\\paras\\appdata\\local\\programs\\python\\python311\\lib\\site-packages (from vectorshift) (3.1)\n"
     ]
    },
    {
     "name": "stderr",
     "output_type": "stream",
     "text": [
      "\n",
      "[notice] A new release of pip is available: 23.3.2 -> 24.1\n",
      "[notice] To update, run: python.exe -m pip install --upgrade pip\n"
     ]
    }
   ],
   "source": [
    "! pip install vectorshift --upgrade"
   ]
  },
  {
   "cell_type": "markdown",
   "id": "0bd6bb89",
   "metadata": {},
   "source": [
    "## Vectorshift Chatbot: Add Your Company Knowledge Base to Chat\n",
    "\n",
    "The pipeline takes in a user question about VectorShift (input node). The user question queries a vector store that contains VectorShift documentation (a database that allows for semantic queries and returns the most relevant pieces of information). The results of the vector store are fed into an LLM prompt, along with the user question, and chat memory.\n",
    "\n",
    "The overall pipeline should be looks like the figure below:\n",
    "![alt text](images/vectorshift_chatbot/1-overview.png \"Overall Pipeline\")\n",
    "\n",
    "In the first step, lets import our SDK and put the API Key"
   ]
  },
  {
   "cell_type": "code",
   "execution_count": 47,
   "id": "48e6bd8c",
   "metadata": {},
   "outputs": [],
   "source": [
    "import vectorshift\n",
    "from vectorshift.node import InputNode, URLLoaderNode, TextNode, VectorQueryNode, OpenAILLMNode, OutputNode, ChatMemoryNode\n",
    "from vectorshift.pipeline import Pipeline\n",
    "from vectorshift.knowledge_base import *"
   ]
  },
  {
   "cell_type": "code",
   "execution_count": 20,
   "id": "1f0a686f",
   "metadata": {},
   "outputs": [],
   "source": [
    "vectorshift.api_key=\"YOU_API_KEY\""
   ]
  },
  {
   "cell_type": "markdown",
   "id": "ba7abcae",
   "metadata": {},
   "source": [
    "### Input\n",
    "Our pipeline takes in one input, which is of type text (the URL). Correspondingly, there's an InputNode class that we can use to represent this input, which requires a name and data type.\n",
    "\n",
    "![alt text](images/vectorshift_chatbot/2-input_node.png \"Input Node\")\n",
    "\n",
    "The data type is more than a constructor argument here. Behind the scenes, node outputs are tagged with different types (e.g. LLMs produce textual output), which can help catch issues with pipelines before they're saved to the VectorShift platform. We list the expected types of different nodes' inputs and outputs in node-specific documentation."
   ]
  },
  {
   "cell_type": "code",
   "execution_count": 21,
   "id": "76d55df8",
   "metadata": {},
   "outputs": [],
   "source": [
    "input_node = InputNode(name=\"User_question\", input_type=\"text\")"
   ]
  },
  {
   "cell_type": "markdown",
   "id": "5b03e757",
   "metadata": {},
   "source": [
    "### Chat Memory\n",
    "Chat memory allows chatbot to memorize the last n-conversation from the chats.\n",
    "\n",
    "![alt text](images/vectorshift_chatbot/3-memory_node.png \"Overall Pipeline\")"
   ]
  },
  {
   "cell_type": "code",
   "execution_count": 55,
   "id": "7f947446",
   "metadata": {},
   "outputs": [],
   "source": [
    "chat_history = ChatMemoryNode(memory_type='Full - Formatted')"
   ]
  },
  {
   "cell_type": "markdown",
   "id": "e97214b4",
   "metadata": {},
   "source": [
    "### Knowledge Base Node\n",
    "Knowledge base allows VectorShift to store information about your product. In this demo, we use docs.vectorshift.ai as source of documentation\n",
    "\n",
    "![alt text](images/vectorshift_chatbot/4-knowledge_node.png \"Knowledge Node\")"
   ]
  },
  {
   "cell_type": "markdown",
   "id": "6d971da1",
   "metadata": {},
   "source": [
    "Create knowledge base"
   ]
  },
  {
   "cell_type": "code",
   "execution_count": 54,
   "id": "0832d329",
   "metadata": {},
   "outputs": [
    {
     "data": {
      "text/plain": [
       "{'id': {'id': '667b1b2c7e47d29bce0ce899',\n",
       "  'name': 'Vectorshift Doc',\n",
       "  'description': 'Knowledge Base for SDK related questions',\n",
       "  'chunkSize': 400,\n",
       "  'chunkOverlap': 0,\n",
       "  'isHybrid': False,\n",
       "  'userID': 'auth0|64cbd237b160e37c8c3510d4',\n",
       "  'orgID': 'Personal',\n",
       "  'vectorCount': 0,\n",
       "  'createdDate': '2024-06-25T19:31:56.839678',\n",
       "  'lastSynced': None,\n",
       "  'selectedIntegrations': [],\n",
       "  'vector_db_details': {'vector_db_provider': 'qdrant',\n",
       "   'collection_name': 'text-embedding-3-small',\n",
       "   'embedding_model': 'text-embedding-3-small',\n",
       "   'embedding_provider': 'openai',\n",
       "   'dimension': None,\n",
       "   'is_hybrid': False,\n",
       "   'sparse_embedding_model': None,\n",
       "   'query_embedding_model': None,\n",
       "   'sparse_query_embedding_model': None},\n",
       "  'documents': None,\n",
       "  'integration_metadata': None,\n",
       "  'folderId': None,\n",
       "  'integrationNode': False,\n",
       "  'fileProcessingImplementation': None,\n",
       "  'apifyKey': None,\n",
       "  'conversation_id': None,\n",
       "  'hide_from_owner': False}}"
      ]
     },
     "execution_count": 54,
     "metadata": {},
     "output_type": "execute_result"
    }
   ],
   "source": [
    "knowledge_base = KnowledgeBase(name=\"Vectorshift Doc\", description=\"Knowledge Base for SDK related questions\")\n",
    "knowledge_base.save()"
   ]
  },
  {
   "cell_type": "code",
   "execution_count": null,
   "id": "f229500d",
   "metadata": {},
   "outputs": [],
   "source": [
    "knowledge_base = KnowledgeBase.fetch(base_name=\"Vectorshift Doc\")\n",
    "knowledge_base.load_documents(document=\"cl.pdf\", document_type=\"File\", document_name=\"cv\")\n"
   ]
  },
  {
   "cell_type": "code",
   "execution_count": 62,
   "id": "6c66023b",
   "metadata": {},
   "outputs": [
    {
     "ename": "Exception",
     "evalue": "Internal Server Error",
     "output_type": "error",
     "traceback": [
      "\u001b[1;31m---------------------------------------------------------------------------\u001b[0m",
      "\u001b[1;31mException\u001b[0m                                 Traceback (most recent call last)",
      "Cell \u001b[1;32mIn[62], line 1\u001b[0m\n\u001b[1;32m----> 1\u001b[0m query_result \u001b[38;5;241m=\u001b[39m \u001b[43mknowledge_base\u001b[49m\u001b[38;5;241;43m.\u001b[39;49m\u001b[43mquery\u001b[49m\u001b[43m(\u001b[49m\u001b[43mquery\u001b[49m\u001b[38;5;241;43m=\u001b[39;49m\u001b[43minput_node\u001b[49m\u001b[38;5;241;43m.\u001b[39;49m\u001b[43moutput\u001b[49m\u001b[43m(\u001b[49m\u001b[43m)\u001b[49m\u001b[43m)\u001b[49m\n\u001b[0;32m      2\u001b[0m query_result\n",
      "File \u001b[1;32mc:\\Users\\paras\\AppData\\Local\\Programs\\Python\\Python311\\Lib\\site-packages\\vectorshift\\knowledge_base.py:357\u001b[0m, in \u001b[0;36mKnowledgeBase.query\u001b[1;34m(self, query, max_docs, filter, rerank, api_key, public_key, private_key)\u001b[0m\n\u001b[0;32m    341\u001b[0m response \u001b[38;5;241m=\u001b[39m requests\u001b[38;5;241m.\u001b[39mpost(\n\u001b[0;32m    342\u001b[0m     API_VECTORSTORE_QUERY_ENDPOINT,\n\u001b[0;32m    343\u001b[0m     data\u001b[38;5;241m=\u001b[39m{\n\u001b[1;32m   (...)\u001b[0m\n\u001b[0;32m    354\u001b[0m     },\n\u001b[0;32m    355\u001b[0m )\n\u001b[0;32m    356\u001b[0m \u001b[38;5;28;01mif\u001b[39;00m response\u001b[38;5;241m.\u001b[39mstatus_code \u001b[38;5;241m!=\u001b[39m \u001b[38;5;241m200\u001b[39m:\n\u001b[1;32m--> 357\u001b[0m     \u001b[38;5;28;01mraise\u001b[39;00m \u001b[38;5;167;01mException\u001b[39;00m(response\u001b[38;5;241m.\u001b[39mtext)\n\u001b[0;32m    358\u001b[0m response \u001b[38;5;241m=\u001b[39m response\u001b[38;5;241m.\u001b[39mjson()\n\u001b[0;32m    360\u001b[0m \u001b[38;5;28;01mreturn\u001b[39;00m response\n",
      "\u001b[1;31mException\u001b[0m: Internal Server Error"
     ]
    }
   ],
   "source": [
    "query_result = knowledge_base.query(query=input_node.output())\n",
    "query_result\n",
    "\n"
   ]
  },
  {
   "cell_type": "markdown",
   "id": "bf99f317",
   "metadata": {},
   "source": [
    "### LLM Node\n",
    "Knowledge base allows VectorShift to store information about your product. In this demo, we use docs.vectorshift.ai as source of documentation\n",
    "\n",
    "![alt text](images/vectorshift_chatbot/5-llm_node.png \"Knowledge Node\")"
   ]
  },
  {
   "cell_type": "code",
   "execution_count": 34,
   "id": "f475832f",
   "metadata": {},
   "outputs": [],
   "source": [
    "system_text_raw = \"\"\"You are a helpful assistant that answers User Question based on Context and Conversational History.\n",
    "\n",
    "If you are unable to answer the question or if the user requests, direct them to these support resources:\n",
    "1. Documentation: https://docs.vectorshift.ai/vectorshift/\n",
    "2. Book a meeting:\n",
    "https://calendly.com/albert_mao/vectorshift-intro-chat\n",
    "3. Discord:\n",
    "https://discord.gg/3bpkv4AX\"\"\"\n",
    "system_text = TextNode(text=system_text_raw)"
   ]
  },
  {
   "cell_type": "code",
   "execution_count": 58,
   "id": "0fa24b55",
   "metadata": {},
   "outputs": [
    {
     "ename": "NameError",
     "evalue": "name 'query_result' is not defined",
     "output_type": "error",
     "traceback": [
      "\u001b[1;31m---------------------------------------------------------------------------\u001b[0m",
      "\u001b[1;31mNameError\u001b[0m                                 Traceback (most recent call last)",
      "Cell \u001b[1;32mIn[58], line 4\u001b[0m\n\u001b[0;32m      1\u001b[0m llm \u001b[38;5;241m=\u001b[39m OpenAILLMNode(\n\u001b[0;32m      2\u001b[0m     model\u001b[38;5;241m=\u001b[39m\u001b[38;5;124m\"\u001b[39m\u001b[38;5;124mgpt-4\u001b[39m\u001b[38;5;124m\"\u001b[39m, \n\u001b[0;32m      3\u001b[0m     system_input\u001b[38;5;241m=\u001b[39msystem_text\u001b[38;5;241m.\u001b[39moutput(), \n\u001b[1;32m----> 4\u001b[0m     prompt_input\u001b[38;5;241m=\u001b[39m[\u001b[43mquery_result\u001b[49m, chat_history\u001b[38;5;241m.\u001b[39moutput(), input_node\u001b[38;5;241m.\u001b[39moutput()],\n\u001b[0;32m      5\u001b[0m )\n",
      "\u001b[1;31mNameError\u001b[0m: name 'query_result' is not defined"
     ]
    }
   ],
   "source": [
    "llm = OpenAILLMNode(\n",
    "    model=\"gpt-4\", \n",
    "    system_input=system_text.output(), \n",
    "    prompt_input=[query_result, chat_history.output(), input_node.output()],\n",
    ")"
   ]
  },
  {
   "cell_type": "markdown",
   "id": "a80d500a",
   "metadata": {},
   "source": [
    "### Output\n",
    "\n",
    "The output of the entire pipeline should be the text of the email, which is created by the output_text node. We can just take that node's output() and package it in an OutputNode, which determines the overall returned value of the pipeline.\n",
    "\n",
    "Remember that OutputNode is a node that represents, in the pipeline's computation graph, the final value produced. We pass in the output() of output_text, which is a NodeOutput, as the input to that node. OutputNodes are a kind of node; NodeOutputs define what a node returns.\n",
    "\n",
    "![alt text](images/vectorshift_chatbot/6-output.png \"Overall Pipeline\")"
   ]
  },
  {
   "cell_type": "code",
   "execution_count": 14,
   "id": "7cd53113",
   "metadata": {},
   "outputs": [],
   "source": [
    "output = OutputNode(\n",
    "    name=\"Output\", \n",
    "    output_type=\"text\", \n",
    "    input=OpenAILLMNode.output()\n",
    ")"
   ]
  },
  {
   "cell_type": "markdown",
   "id": "aff2f038",
   "metadata": {},
   "source": [
    "These are all the nodes we need! The overall structure of the nodes closely follows that of the no-code example. Each node block in the no-code editor became its own object in Python, and each edge between nodes has been represented by the output of one node being passed into the constructor of another."
   ]
  },
  {
   "cell_type": "markdown",
   "id": "416811ff",
   "metadata": {},
   "source": [
    "### Creating and Deploying the Pipeline\n",
    "\n",
    "Once nodes have been defined, creating a pipeline object is fairly simple, since the node objects themselves already encode the edges between them.\n",
    "\n",
    "A Pipeline object can be initialized by passing in a list of all nodes, a name, and a description. The list of nodes can be passed in any order."
   ]
  },
  {
   "cell_type": "code",
   "execution_count": 15,
   "id": "8b4e1322",
   "metadata": {},
   "outputs": [],
   "source": [
    "vectorshift_chatbot = [\n",
    "    input_node, chat_history, llm, system_text, output, knowledge_base, query_result\n",
    "]"
   ]
  },
  {
   "cell_type": "code",
   "execution_count": 16,
   "id": "4c606244",
   "metadata": {},
   "outputs": [],
   "source": [
    "vectorshift_chatbot_pipeline = Pipeline(\n",
    "    name=\"Vectorshift Chatbot\",\n",
    "    description=\"Generate personalized emails for outreach\",\n",
    "    nodes=vectorshift_chatbot\n",
    ")"
   ]
  },
  {
   "cell_type": "markdown",
   "id": "732ed0c2",
   "metadata": {},
   "source": [
    "There are a few nifty methods that a Pipeline object has. Printing it gives a representation of its constituent nodes—and if you want to generate code that represents how you could construct the object, there's a method for that too (that assigns generated IDs as variable names for each node)."
   ]
  },
  {
   "cell_type": "code",
   "execution_count": null,
   "id": "f7e0c89d",
   "metadata": {},
   "outputs": [],
   "source": [
    "print(vectorshift_chatbot_pipeline)"
   ]
  },
  {
   "cell_type": "code",
   "execution_count": null,
   "id": "02a3018b",
   "metadata": {},
   "outputs": [],
   "source": [
    "print(vectorshift_chatbot_pipeline.construction_str())"
   ]
  },
  {
   "cell_type": "markdown",
   "id": "c24a5ac2",
   "metadata": {},
   "source": [
    "To save the pipeline to the VectorShift platform, we can pass in our API keys to create a Config object and then pass the pipeline object in."
   ]
  },
  {
   "cell_type": "code",
   "execution_count": 19,
   "id": "d9e10dac",
   "metadata": {},
   "outputs": [],
   "source": [
    "config = vectorshift.deploy.Config(\n",
    "    api_key=\"sk_gEVQxWypbU8avw2nxDxnooSdlaQkx6hUZXkzp3iDL17cJjiG\",\n",
    ")"
   ]
  },
  {
   "cell_type": "code",
   "execution_count": null,
   "id": "96ae2f61",
   "metadata": {},
   "outputs": [],
   "source": [
    "config.save_new_pipeline(vectorshift_chatbot_pipeline)"
   ]
  },
  {
   "cell_type": "markdown",
   "id": "7d58d113",
   "metadata": {},
   "source": [
    "The constructed pipeline should be looks like figure below. You can check via VectorShift Dashboard -> Pipeline \n",
    "![alt text](images/7-combined.png \"Overall Pipeline\")"
   ]
  },
  {
   "cell_type": "markdown",
   "id": "65851faf",
   "metadata": {},
   "source": [
    "### Running a Pipeline\n",
    "\n",
    "To rune a pipeline, you need to fetch the name of pipeline you wanted to try, and then execute with pipeline.run"
   ]
  },
  {
   "cell_type": "code",
   "execution_count": 21,
   "id": "4e99e979",
   "metadata": {},
   "outputs": [],
   "source": [
    "pipeline = Pipeline.fetch(pipeline_name='Vectorshift Chatbot')"
   ]
  },
  {
   "cell_type": "code",
   "execution_count": 22,
   "id": "ba06cf31",
   "metadata": {},
   "outputs": [],
   "source": [
    "response = pipeline.run(\n",
    "    inputs = {\"input_1\": \"https://www.vectorshift.ai/\"},\n",
    "    api_key= \"sk_gEVQxWypbU8avw2nxDxnooSdlaQkx6hUZXkzp3iDL17cJjiG\"\n",
    ")"
   ]
  },
  {
   "cell_type": "code",
   "execution_count": 23,
   "id": "f79d88ee",
   "metadata": {},
   "outputs": [
    {
     "name": "stdout",
     "output_type": "stream",
     "text": [
      "{'output_1': \"Hello,\\nWe are XYZ consulting, specializing in crafting growth strategies.\\n\\nOur consulting firm can strategically help VectorShift by streamlining their workflow automation processes, effectively leveraging AI technologies across varied data formats. We can offer customized solutions to automate the creation of marketing copy, personalized outbound emails, and call summaries. We can further assist in enhancing their document, video, and audio file analysis capabilities through advanced AI integration. Additionally, we can guide VectorShift to efficiently use their pre-built templates, improve their application's architecture, and make the transfer of work seamless between no-code and their Python SDK. Our expertise can significantly contribute to enhancing their enterprise solutions, report generation, chatbot volume, outbound emails, RFPs, and proposal generators, ultimately driving the company's growth.\\n\\nAre you available anytime later this week to chat?\\n\\nBest,\\nXYZ\"}\n"
     ]
    }
   ],
   "source": [
    "print(response)"
   ]
  }
 ],
 "metadata": {
  "kernelspec": {
   "display_name": "Python 3 (ipykernel)",
   "language": "python",
   "name": "python3"
  },
  "language_info": {
   "codemirror_mode": {
    "name": "ipython",
    "version": 3
   },
   "file_extension": ".py",
   "mimetype": "text/x-python",
   "name": "python",
   "nbconvert_exporter": "python",
   "pygments_lexer": "ipython3",
   "version": "3.11.7"
  }
 },
 "nbformat": 4,
 "nbformat_minor": 5
}
