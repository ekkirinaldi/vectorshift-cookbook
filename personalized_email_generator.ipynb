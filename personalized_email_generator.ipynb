{
 "cells": [
  {
   "cell_type": "markdown",
   "id": "75f4b5f1",
   "metadata": {},
   "source": [
    "# Getting Started with Vectorshift SDK\n",
    "\n",
    "## Installing Library\n",
    "\n",
    "To use the VectorShift Python library, you should be using Python 3.10 or newer.\n",
    "\n",
    "The SDK is built upon our API. To access much of the functionality, such as saving and downloading pipelines, you should already have an API key ready.\n",
    "\n",
    "Our Python SDK is available as the vectorshift package on PyPl. Before downloading, ensure you have pip installed. Then, you can simply get started by downloading the package by running the command in your terminal of choice:"
   ]
  },
  {
   "cell_type": "code",
   "execution_count": 1,
   "id": "41e3fee3-f095-4ed6-831d-2315d8a0331d",
   "metadata": {},
   "outputs": [
    {
     "name": "stdout",
     "output_type": "stream",
     "text": [
      "Requirement already satisfied: vectorshift in /opt/anaconda3/lib/python3.11/site-packages (0.0.69)\n",
      "Requirement already satisfied: networkx==3.1 in /opt/anaconda3/lib/python3.11/site-packages (from vectorshift) (3.1)\n"
     ]
    }
   ],
   "source": [
    "! pip install vectorshift"
   ]
  },
  {
   "cell_type": "markdown",
   "id": "0bd6bb89",
   "metadata": {},
   "source": [
    "## Tutorial: Personalized Email Generator\n",
    "\n",
    "Let's say we want to build and run a simple pipeline using the Python SDK. This walkthrough will give you a way to construct and view a pipeline, while also introducing the major building blocks of the SDK along the way. \n",
    "\n",
    "The ultimate pipeline we'll build is a copy of the Personalized Email Generator introduced as an example pipeline under the no-code documentation. As a brief overview, the pipeline takes in a text input of a company's website URL, queries a VectorDB to get information about the company, and passes the information into an LLM to generate a personalized email for outreach to the company (as a consulting firm looking to improve their operations).\n",
    "\n",
    "The overall pipeline should be looks like the figure below:\n",
    "![alt text](images/sdk_demo/1-overview.png \"Overall Pipeline\")\n",
    "\n",
    "In the first step, lets import our SDK and put the API Key"
   ]
  },
  {
   "cell_type": "code",
   "execution_count": 2,
   "id": "48e6bd8c",
   "metadata": {},
   "outputs": [],
   "source": [
    "import vectorshift\n",
    "from vectorshift.node import InputNode, URLLoaderNode, TextNode, VectorQueryNode, OpenAILLMNode, OutputNode\n",
    "from vectorshift.pipeline import Pipeline"
   ]
  },
  {
   "cell_type": "code",
   "execution_count": 3,
   "id": "1f0a686f",
   "metadata": {},
   "outputs": [],
   "source": [
    "vs_api_key=\"YOUR_API_KEY\""
   ]
  },
  {
   "cell_type": "markdown",
   "id": "ba7abcae",
   "metadata": {},
   "source": [
    "## Defining Pipeline Nodes\n",
    "\n",
    "VectorShift pipelines are created using nodes that represent units of computation and edges which define how outputs of nodes are fed as inputs to others. At a high-level, in the SDK we similarly create a Pipeline object by composing together nodes of different classes and parameters. There are several classes of nodes that correspond closely with the various nodes available in the no-code editor. Once initialized, each node object has one or more outputs, which we can pass into later nodes' constructors. \n",
    "\n",
    "In essence, most nodes will expect to take in the outputs of other nodes when initialized, which adds an edge in the computation graph between the nodes. So it makes the most sense to build the pipeline in order, starting with inputs and  sequentially feeding node outputs as inputs into later nodes.\n",
    "\n",
    "### Input\n",
    "Our pipeline takes in one input, which is of type text (the URL). Correspondingly, there's an InputNode class that we can use to represent this input, which requires a name and data type.\n",
    "\n",
    "![alt text](images/sdk_demo/2-input.png \"Overall Pipeline\")\n",
    "\n",
    "The data type is more than a constructor argument here. Behind the scenes, node outputs are tagged with different types (e.g. LLMs produce textual output), which can help catch issues with pipelines before they're saved to the VectorShift platform. We list the expected types of different nodes' inputs and outputs in node-specific documentation."
   ]
  },
  {
   "cell_type": "code",
   "execution_count": 4,
   "id": "76d55df8",
   "metadata": {},
   "outputs": [],
   "source": [
    "input_node = InputNode(name=\"input_1\", input_type=\"text\")"
   ]
  },
  {
   "cell_type": "markdown",
   "id": "2d0e4449",
   "metadata": {},
   "source": [
    "Each node has one or more outputs with different names that can be fed as inputs into later nodes. This is represented for all node objects by a dictionary of names to output objects (NodeOutputs), given by the method outputs(). The majority of nodes, however, only have one output, in which case we can call the output() method directly to get the output object. \n",
    "\n",
    "There's a node class that can load the contents of a URL and return the data retrieved, which seems useful here. We'll take the output of input_node and feed it into the constructor, which expects a url_input argument:"
   ]
  },
  {
   "cell_type": "code",
   "execution_count": 5,
   "id": "35e50b22",
   "metadata": {},
   "outputs": [
    {
     "name": "stdout",
     "output_type": "stream",
     "text": [
      "WARNING: URL DataLoader node input url received input type text, which may be incompatible with expected type url\n"
     ]
    }
   ],
   "source": [
    "url_loader = URLLoaderNode(url_input=input_node.output())"
   ]
  },
  {
   "cell_type": "markdown",
   "id": "c741e332",
   "metadata": {},
   "source": [
    "The semantic meaning of the line above is that the output of the overall pipeline input gets fed as the input to the URL loader node. "
   ]
  },
  {
   "cell_type": "markdown",
   "id": "588751e4",
   "metadata": {},
   "source": [
    "### Querying the VectorDB\n",
    "\n",
    "The output of url_loader can be used to query a VectorDB. As in the no-code walkthrough, we have a corresponding VectorQueryNode that takes one or more queries and one or more document inputs. This node will work by first loading the content given by the URL into a termporary VectorDB, and then using the string query to perform a semantic search over the VectorDB to retrieve the relevant contents of what we loaded from the URL.\n",
    "\n",
    "![alt text](images/sdk_demo/3-query.png \"Overall Pipeline\")"
   ]
  },
  {
   "cell_type": "code",
   "execution_count": 6,
   "id": "f531ac0a",
   "metadata": {},
   "outputs": [],
   "source": [
    "question_text = TextNode(text=\"How can this company grow?\")"
   ]
  },
  {
   "cell_type": "code",
   "execution_count": 7,
   "id": "898f208c",
   "metadata": {},
   "outputs": [],
   "source": [
    "vector_query = VectorQueryNode(\n",
    "    query_input=[question_text.output()], \n",
    "    documents_input=[url_loader.output()]\n",
    ")"
   ]
  },
  {
   "cell_type": "markdown",
   "id": "72457d31",
   "metadata": {},
   "source": [
    "Let's say we want to combine the query output with the question we used in the query. To do this, we can introduce another TextNode that includes the outputs of these two nodes as variables inside the node text. The functionality is the same as the no-code platform: each variable is indicated by double brackets {{}}, and we expect an input to be passed in corresponding to each variable name."
   ]
  },
  {
   "cell_type": "code",
   "execution_count": 8,
   "id": "5b793427",
   "metadata": {},
   "outputs": [],
   "source": [
    "prompt_text = TextNode(\n",
    "    text=\"Company Context: {{Context}}\\n Question: {{Question}}\",\n",
    "    text_inputs={\n",
    "        \"Context\": vector_query.output(),\n",
    "        \"Question\": question_text.output()\n",
    "    }\n",
    ")"
   ]
  },
  {
   "cell_type": "markdown",
   "id": "9f769150",
   "metadata": {},
   "source": [
    "We introduced two variables, Context and Question, so we correspondingly pass in a text_inputs argument of previous nodes' outputs keyed by those variable names."
   ]
  },
  {
   "cell_type": "markdown",
   "id": "67129a7a",
   "metadata": {},
   "source": [
    "### Generating Text with the LLM\n",
    "\n",
    "Let's use GPT-4 to generate a customized sentence for the email. In this case, we can use an OpenAILLMNode.  These nodes also support a system input prompt, which we can seed with some contextual text. (Note: the system text is shortened from the original tutorial.)\n",
    "\n",
    "![alt text](images/sdk_demo/4-llm.png \"Overall Pipeline\")"
   ]
  },
  {
   "cell_type": "code",
   "execution_count": 9,
   "id": "f475832f",
   "metadata": {},
   "outputs": [],
   "source": [
    "system_text_raw = \"\"\"You are a sentence generator for a consulting\n",
    "firm. You take in data from a website and generate a sentence\n",
    "that explains how the firm can help this company.\"\"\""
   ]
  },
  {
   "cell_type": "code",
   "execution_count": 10,
   "id": "4f328135",
   "metadata": {},
   "outputs": [],
   "source": [
    "system_text = TextNode(text=system_text_raw)"
   ]
  },
  {
   "cell_type": "code",
   "execution_count": 11,
   "id": "0fa24b55",
   "metadata": {},
   "outputs": [],
   "source": [
    "llm = OpenAILLMNode(\n",
    "    model=\"gpt-4\", \n",
    "    system_input=system_text.output(), \n",
    "    prompt_input=prompt_text.output()\n",
    ")"
   ]
  },
  {
   "cell_type": "markdown",
   "id": "bf74bae2",
   "metadata": {},
   "source": [
    "### Composing the Email\n",
    "\n",
    "The prompt for the LLM node was to generate a sentence, not an entire email. We can write up some custom text ourselves to fill in the rest of the email, and insert the generated sentence as a variable as above.\n",
    "\n",
    "![alt text](images/sdk_demo/5-composing.png \"Overall Pipeline\")"
   ]
  },
  {
   "cell_type": "code",
   "execution_count": 12,
   "id": "e929c18e",
   "metadata": {},
   "outputs": [],
   "source": [
    "output_text_raw = \"\"\"Hello,\n",
    "We are XYZ consulting, specializing in crafting growth strategies.\n",
    "\n",
    "{{Personalized_Message}}\n",
    "\n",
    "Are you available anytime later this week to chat?\n",
    "\n",
    "Best,\n",
    "XYZ\"\"\""
   ]
  },
  {
   "cell_type": "code",
   "execution_count": 13,
   "id": "4e223852",
   "metadata": {},
   "outputs": [],
   "source": [
    "output_text = TextNode(\n",
    "    text=output_text_raw,\n",
    "    text_inputs={\n",
    "        \"Personalized_Message\": llm.output()\n",
    "    }\n",
    ")"
   ]
  },
  {
   "cell_type": "markdown",
   "id": "a80d500a",
   "metadata": {},
   "source": [
    "### Output\n",
    "\n",
    "The output of the entire pipeline should be the text of the email, which is created by the output_text node. We can just take that node's output() and package it in an OutputNode, which determines the overall returned value of the pipeline.\n",
    "\n",
    "Remember that OutputNode is a node that represents, in the pipeline's computation graph, the final value produced. We pass in the output() of output_text, which is a NodeOutput, as the input to that node. OutputNodes are a kind of node; NodeOutputs define what a node returns.\n",
    "\n",
    "![alt text](images/sdk_demo/6-output.png \"Overall Pipeline\")"
   ]
  },
  {
   "cell_type": "code",
   "execution_count": 14,
   "id": "7cd53113",
   "metadata": {},
   "outputs": [],
   "source": [
    "output = OutputNode(\n",
    "    name=\"output_1\", \n",
    "    output_type=\"text\", \n",
    "    input=output_text.output()\n",
    ")"
   ]
  },
  {
   "cell_type": "markdown",
   "id": "aff2f038",
   "metadata": {},
   "source": [
    "These are all the nodes we need! The overall structure of the nodes closely follows that of the no-code example. Each node block in the no-code editor became its own object in Python, and each edge between nodes has been represented by the output of one node being passed into the constructor of another."
   ]
  },
  {
   "cell_type": "markdown",
   "id": "416811ff",
   "metadata": {},
   "source": [
    "### Creating and Deploying the Pipeline\n",
    "\n",
    "Once nodes have been defined, creating a pipeline object is fairly simple, since the node objects themselves already encode the edges between them.\n",
    "\n",
    "A Pipeline object can be initialized by passing in a list of all nodes, a name, and a description. The list of nodes can be passed in any order."
   ]
  },
  {
   "cell_type": "code",
   "execution_count": 15,
   "id": "8b4e1322",
   "metadata": {},
   "outputs": [],
   "source": [
    "email_gen_pipeline_nodes = [\n",
    "    input_node, url_loader, question_text, vector_query,\n",
    "    prompt_text, system_text, llm, output_text, output\n",
    "]"
   ]
  },
  {
   "cell_type": "code",
   "execution_count": 16,
   "id": "4c606244",
   "metadata": {},
   "outputs": [],
   "source": [
    "email_gen_pipeline = Pipeline(\n",
    "    name=\"Personalized Email Generator\",\n",
    "    description=\"Generate personalized emails for outreach\",\n",
    "    nodes=email_gen_pipeline_nodes\n",
    ")"
   ]
  },
  {
   "cell_type": "markdown",
   "id": "732ed0c2",
   "metadata": {},
   "source": [
    "There are a few nifty methods that a Pipeline object has. Printing it gives a representation of its constituent nodes—and if you want to generate code that represents how you could construct the object, there's a method for that too (that assigns generated IDs as variable names for each node)."
   ]
  },
  {
   "cell_type": "code",
   "execution_count": null,
   "id": "f7e0c89d",
   "metadata": {},
   "outputs": [],
   "source": [
    "print(email_gen_pipeline)"
   ]
  },
  {
   "cell_type": "code",
   "execution_count": null,
   "id": "02a3018b",
   "metadata": {},
   "outputs": [],
   "source": [
    "print(email_gen_pipeline.construction_str())"
   ]
  },
  {
   "cell_type": "markdown",
   "id": "c24a5ac2",
   "metadata": {},
   "source": [
    "To save the pipeline to the VectorShift platform, we can pass in our API keys to create a Config object and then pass the pipeline object in."
   ]
  },
  {
   "cell_type": "code",
   "execution_count": 19,
   "id": "d9e10dac",
   "metadata": {},
   "outputs": [],
   "source": [
    "config = vectorshift.deploy.Config(\n",
    "    api_key=vs_api_key,\n",
    ")"
   ]
  },
  {
   "cell_type": "code",
   "execution_count": 20,
   "id": "96ae2f61",
   "metadata": {},
   "outputs": [
    {
     "name": "stdout",
     "output_type": "stream",
     "text": [
      "Successfully saved pipeline with ID 668ea3fab665cebec9cf1a1c.\n"
     ]
    },
    {
     "data": {
      "text/plain": [
       "{'pipeline': {'name': 'Personalized Email Generator',\n",
       "  'description': 'Generate personalized emails for outreach',\n",
       "  'nodes': [{'id': 'customInput-1',\n",
       "    'type': 'customInput',\n",
       "    'data': {'id': 'customInput-1',\n",
       "     'nodeType': 'customInput',\n",
       "     'category': 'input',\n",
       "     'task_name': 'input',\n",
       "     'inputName': 'input_1',\n",
       "     'inputType': 'Text'},\n",
       "    'position': {'x': 0, 'y': -500},\n",
       "    'positionAbsolute': {'x': 0, 'y': -500},\n",
       "    'selected': False,\n",
       "    'dragging': False},\n",
       "   {'id': 'dataLoader-1',\n",
       "    'type': 'dataLoader',\n",
       "    'data': {'id': 'dataLoader-1',\n",
       "     'nodeType': 'dataLoader',\n",
       "     'category': 'task',\n",
       "     'task_name': 'load_url',\n",
       "     'loaderType': 'URL',\n",
       "     'function': 'default',\n",
       "     'chunkSize': 400,\n",
       "     'chunkOverlap': 0},\n",
       "    'position': {'x': 500, 'y': -50},\n",
       "    'positionAbsolute': {'x': 500, 'y': -50},\n",
       "    'selected': False,\n",
       "    'dragging': False},\n",
       "   {'id': 'text-1',\n",
       "    'type': 'text',\n",
       "    'data': {'id': 'text-1',\n",
       "     'nodeType': 'text',\n",
       "     'category': 'task',\n",
       "     'task_name': 'text',\n",
       "     'text': 'How can this company grow?',\n",
       "     'inputNames': None,\n",
       "     'formatText': True},\n",
       "    'position': {'x': 0, 'y': -50},\n",
       "    'positionAbsolute': {'x': 0, 'y': -50},\n",
       "    'selected': False,\n",
       "    'dragging': False},\n",
       "   {'id': 'vectorQuery-1',\n",
       "    'type': 'vectorQuery',\n",
       "    'data': {'id': 'vectorQuery-1',\n",
       "     'nodeType': 'vectorQuery',\n",
       "     'category': 'task',\n",
       "     'task_name': 'load_and_query_vector_db',\n",
       "     'function': 'default',\n",
       "     'maxDocsPerQuery': 2,\n",
       "     'numQueries': 1,\n",
       "     'enableFilter': False,\n",
       "     'filter': None,\n",
       "     'rerankDocuments': False},\n",
       "    'position': {'x': 1000, 'y': 50},\n",
       "    'positionAbsolute': {'x': 1000, 'y': 50},\n",
       "    'selected': False,\n",
       "    'dragging': False},\n",
       "   {'id': 'text-2',\n",
       "    'type': 'text',\n",
       "    'data': {'id': 'text-2',\n",
       "     'nodeType': 'text',\n",
       "     'category': 'task',\n",
       "     'task_name': 'text',\n",
       "     'text': 'Company Context: {{Context}}\\n Question: {{Question}}',\n",
       "     'inputNames': ['Context', 'Question'],\n",
       "     'formatText': True},\n",
       "    'position': {'x': 1500, 'y': 0},\n",
       "    'positionAbsolute': {'x': 1500, 'y': 0},\n",
       "    'selected': False,\n",
       "    'dragging': False},\n",
       "   {'id': 'text-3',\n",
       "    'type': 'text',\n",
       "    'data': {'id': 'text-3',\n",
       "     'nodeType': 'text',\n",
       "     'category': 'task',\n",
       "     'task_name': 'text',\n",
       "     'text': 'You are a sentence generator for a consulting\\nfirm. You take in data from a website and generate a sentence\\nthat explains how the firm can help this company.',\n",
       "     'inputNames': None,\n",
       "     'formatText': True},\n",
       "    'position': {'x': 0, 'y': 450},\n",
       "    'positionAbsolute': {'x': 0, 'y': 450},\n",
       "    'selected': False,\n",
       "    'dragging': False},\n",
       "   {'id': 'llmOpenAI-1',\n",
       "    'type': 'llmOpenAI',\n",
       "    'data': {'id': 'llmOpenAI-1',\n",
       "     'nodeType': 'llmOpenAI',\n",
       "     'category': 'task',\n",
       "     'task_name': 'llm_openai',\n",
       "     'model': 'gpt-4',\n",
       "     'system': '',\n",
       "     'prompt': '',\n",
       "     'maxTokens': 1024,\n",
       "     'temperature': '1.0',\n",
       "     'topP': '1.0',\n",
       "     'stream': False,\n",
       "     'jsonResponse': False,\n",
       "     'usePersonalAPIKey': False,\n",
       "     'apiKey': ''},\n",
       "    'position': {'x': 2000, 'y': 50},\n",
       "    'positionAbsolute': {'x': 2000, 'y': 50},\n",
       "    'selected': False,\n",
       "    'dragging': False},\n",
       "   {'id': 'text-4',\n",
       "    'type': 'text',\n",
       "    'data': {'id': 'text-4',\n",
       "     'nodeType': 'text',\n",
       "     'category': 'task',\n",
       "     'task_name': 'text',\n",
       "     'text': 'Hello,\\nWe are XYZ consulting, specializing in crafting growth strategies.\\n\\n{{Personalized_Message}}\\n\\nAre you available anytime later this week to chat?\\n\\nBest,\\nXYZ',\n",
       "     'inputNames': ['Personalized_Message'],\n",
       "     'formatText': True},\n",
       "    'position': {'x': 2500, 'y': 50},\n",
       "    'positionAbsolute': {'x': 2500, 'y': 50},\n",
       "    'selected': False,\n",
       "    'dragging': False},\n",
       "   {'id': 'customOutput-1',\n",
       "    'type': 'customOutput',\n",
       "    'data': {'id': 'customOutput-1',\n",
       "     'nodeType': 'customOutput',\n",
       "     'category': 'output',\n",
       "     'task_name': 'output',\n",
       "     'outputName': 'output_1',\n",
       "     'outputType': 'Text'},\n",
       "    'position': {'x': 3000, 'y': 50},\n",
       "    'positionAbsolute': {'x': 3000, 'y': 50},\n",
       "    'selected': False,\n",
       "    'dragging': False}],\n",
       "  'edges': [{'source': 'customInput-1',\n",
       "    'sourceHandle': 'customInput-1-value',\n",
       "    'target': 'dataLoader-1',\n",
       "    'targetHandle': 'dataLoader-1-url',\n",
       "    'type': 'defaultEdge',\n",
       "    'id': 'reactflow__edge-customInput-1customInput-1-value-dataLoader-1dataLoader-1-url'},\n",
       "   {'source': 'text-1',\n",
       "    'sourceHandle': 'text-1-output',\n",
       "    'target': 'vectorQuery-1',\n",
       "    'targetHandle': 'vectorQuery-1-query-0',\n",
       "    'type': 'defaultEdge',\n",
       "    'id': 'reactflow__edge-text-1text-1-output-vectorQuery-1vectorQuery-1-query-0'},\n",
       "   {'source': 'dataLoader-1',\n",
       "    'sourceHandle': 'dataLoader-1-output',\n",
       "    'target': 'vectorQuery-1',\n",
       "    'targetHandle': 'vectorQuery-1-documents',\n",
       "    'type': 'defaultEdge',\n",
       "    'id': 'reactflow__edge-dataLoader-1dataLoader-1-output-vectorQuery-1vectorQuery-1-documents'},\n",
       "   {'source': 'vectorQuery-1',\n",
       "    'sourceHandle': 'vectorQuery-1-query-result-0',\n",
       "    'target': 'text-2',\n",
       "    'targetHandle': 'text-2-Context',\n",
       "    'type': 'defaultEdge',\n",
       "    'id': 'reactflow__edge-vectorQuery-1vectorQuery-1-query-result-0-text-2text-2-Context'},\n",
       "   {'source': 'text-1',\n",
       "    'sourceHandle': 'text-1-output',\n",
       "    'target': 'text-2',\n",
       "    'targetHandle': 'text-2-Question',\n",
       "    'type': 'defaultEdge',\n",
       "    'id': 'reactflow__edge-text-1text-1-output-text-2text-2-Question'},\n",
       "   {'source': 'text-3',\n",
       "    'sourceHandle': 'text-3-output',\n",
       "    'target': 'llmOpenAI-1',\n",
       "    'targetHandle': 'llmOpenAI-1-system',\n",
       "    'type': 'defaultEdge',\n",
       "    'id': 'reactflow__edge-text-3text-3-output-llmOpenAI-1llmOpenAI-1-system'},\n",
       "   {'source': 'text-2',\n",
       "    'sourceHandle': 'text-2-output',\n",
       "    'target': 'llmOpenAI-1',\n",
       "    'targetHandle': 'llmOpenAI-1-prompt',\n",
       "    'type': 'defaultEdge',\n",
       "    'id': 'reactflow__edge-text-2text-2-output-llmOpenAI-1llmOpenAI-1-prompt'},\n",
       "   {'source': 'llmOpenAI-1',\n",
       "    'sourceHandle': 'llmOpenAI-1-response',\n",
       "    'target': 'text-4',\n",
       "    'targetHandle': 'text-4-Personalized_Message',\n",
       "    'type': 'defaultEdge',\n",
       "    'id': 'reactflow__edge-llmOpenAI-1llmOpenAI-1-response-text-4text-4-Personalized_Message'},\n",
       "   {'source': 'text-4',\n",
       "    'sourceHandle': 'text-4-output',\n",
       "    'target': 'customOutput-1',\n",
       "    'targetHandle': 'customOutput-1-value',\n",
       "    'type': 'defaultEdge',\n",
       "    'id': 'reactflow__edge-text-4text-4-output-customOutput-1customOutput-1-value'}],\n",
       "  'inputs': {'customInput-1': {'name': 'input_1', 'type': 'Text'}},\n",
       "  'outputs': {'customOutput-1': {'name': 'output_1', 'type': 'Text'}},\n",
       "  'nodeIDs': {'customInput': 1,\n",
       "   'dataLoader': 1,\n",
       "   'text': 4,\n",
       "   'vectorQuery': 1,\n",
       "   'llmOpenAI': 1,\n",
       "   'customOutput': 1},\n",
       "  'zipOutputs': False,\n",
       "  'share_status': 'owned',\n",
       "  'createdDate': '2024-07-10T15:08:42.233498+00:00',\n",
       "  'modifiedDate': '2024-07-10T15:08:42.233502+00:00',\n",
       "  'userID': 'auth0|64cbd237b160e37c8c3510d4',\n",
       "  'orgID': 'Personal',\n",
       "  'username': 'ekkirinaldi',\n",
       "  'orgName': None,\n",
       "  'email': 'ekkirinaldi@gmail.com',\n",
       "  'sharedUsers': [],\n",
       "  'id': '668ea3fab665cebec9cf1a1c'},\n",
       " 'branch': {'nodes': [{'id': 'customInput-1',\n",
       "    'type': 'customInput',\n",
       "    'data': {'id': 'customInput-1',\n",
       "     'nodeType': 'customInput',\n",
       "     'category': 'input',\n",
       "     'task_name': 'input',\n",
       "     'inputName': 'input_1',\n",
       "     'inputType': 'Text'},\n",
       "    'position': {'x': 0, 'y': -500},\n",
       "    'positionAbsolute': {'x': 0, 'y': -500},\n",
       "    'selected': False,\n",
       "    'dragging': False},\n",
       "   {'id': 'dataLoader-1',\n",
       "    'type': 'dataLoader',\n",
       "    'data': {'id': 'dataLoader-1',\n",
       "     'nodeType': 'dataLoader',\n",
       "     'category': 'task',\n",
       "     'task_name': 'load_url',\n",
       "     'loaderType': 'URL',\n",
       "     'function': 'default',\n",
       "     'chunkSize': 400,\n",
       "     'chunkOverlap': 0},\n",
       "    'position': {'x': 500, 'y': -50},\n",
       "    'positionAbsolute': {'x': 500, 'y': -50},\n",
       "    'selected': False,\n",
       "    'dragging': False},\n",
       "   {'id': 'text-1',\n",
       "    'type': 'text',\n",
       "    'data': {'id': 'text-1',\n",
       "     'nodeType': 'text',\n",
       "     'category': 'task',\n",
       "     'task_name': 'text',\n",
       "     'text': 'How can this company grow?',\n",
       "     'inputNames': None,\n",
       "     'formatText': True},\n",
       "    'position': {'x': 0, 'y': -50},\n",
       "    'positionAbsolute': {'x': 0, 'y': -50},\n",
       "    'selected': False,\n",
       "    'dragging': False},\n",
       "   {'id': 'vectorQuery-1',\n",
       "    'type': 'vectorQuery',\n",
       "    'data': {'id': 'vectorQuery-1',\n",
       "     'nodeType': 'vectorQuery',\n",
       "     'category': 'task',\n",
       "     'task_name': 'load_and_query_vector_db',\n",
       "     'function': 'default',\n",
       "     'maxDocsPerQuery': 2,\n",
       "     'numQueries': 1,\n",
       "     'enableFilter': False,\n",
       "     'filter': None,\n",
       "     'rerankDocuments': False},\n",
       "    'position': {'x': 1000, 'y': 50},\n",
       "    'positionAbsolute': {'x': 1000, 'y': 50},\n",
       "    'selected': False,\n",
       "    'dragging': False},\n",
       "   {'id': 'text-2',\n",
       "    'type': 'text',\n",
       "    'data': {'id': 'text-2',\n",
       "     'nodeType': 'text',\n",
       "     'category': 'task',\n",
       "     'task_name': 'text',\n",
       "     'text': 'Company Context: {{Context}}\\n Question: {{Question}}',\n",
       "     'inputNames': ['Context', 'Question'],\n",
       "     'formatText': True},\n",
       "    'position': {'x': 1500, 'y': 0},\n",
       "    'positionAbsolute': {'x': 1500, 'y': 0},\n",
       "    'selected': False,\n",
       "    'dragging': False},\n",
       "   {'id': 'text-3',\n",
       "    'type': 'text',\n",
       "    'data': {'id': 'text-3',\n",
       "     'nodeType': 'text',\n",
       "     'category': 'task',\n",
       "     'task_name': 'text',\n",
       "     'text': 'You are a sentence generator for a consulting\\nfirm. You take in data from a website and generate a sentence\\nthat explains how the firm can help this company.',\n",
       "     'inputNames': None,\n",
       "     'formatText': True},\n",
       "    'position': {'x': 0, 'y': 450},\n",
       "    'positionAbsolute': {'x': 0, 'y': 450},\n",
       "    'selected': False,\n",
       "    'dragging': False},\n",
       "   {'id': 'llmOpenAI-1',\n",
       "    'type': 'llmOpenAI',\n",
       "    'data': {'id': 'llmOpenAI-1',\n",
       "     'nodeType': 'llmOpenAI',\n",
       "     'category': 'task',\n",
       "     'task_name': 'llm_openai',\n",
       "     'model': 'gpt-4',\n",
       "     'system': '',\n",
       "     'prompt': '',\n",
       "     'maxTokens': 1024,\n",
       "     'temperature': '1.0',\n",
       "     'topP': '1.0',\n",
       "     'stream': False,\n",
       "     'jsonResponse': False,\n",
       "     'usePersonalAPIKey': False,\n",
       "     'apiKey': ''},\n",
       "    'position': {'x': 2000, 'y': 50},\n",
       "    'positionAbsolute': {'x': 2000, 'y': 50},\n",
       "    'selected': False,\n",
       "    'dragging': False},\n",
       "   {'id': 'text-4',\n",
       "    'type': 'text',\n",
       "    'data': {'id': 'text-4',\n",
       "     'nodeType': 'text',\n",
       "     'category': 'task',\n",
       "     'task_name': 'text',\n",
       "     'text': 'Hello,\\nWe are XYZ consulting, specializing in crafting growth strategies.\\n\\n{{Personalized_Message}}\\n\\nAre you available anytime later this week to chat?\\n\\nBest,\\nXYZ',\n",
       "     'inputNames': ['Personalized_Message'],\n",
       "     'formatText': True},\n",
       "    'position': {'x': 2500, 'y': 50},\n",
       "    'positionAbsolute': {'x': 2500, 'y': 50},\n",
       "    'selected': False,\n",
       "    'dragging': False},\n",
       "   {'id': 'customOutput-1',\n",
       "    'type': 'customOutput',\n",
       "    'data': {'id': 'customOutput-1',\n",
       "     'nodeType': 'customOutput',\n",
       "     'category': 'output',\n",
       "     'task_name': 'output',\n",
       "     'outputName': 'output_1',\n",
       "     'outputType': 'Text'},\n",
       "    'position': {'x': 3000, 'y': 50},\n",
       "    'positionAbsolute': {'x': 3000, 'y': 50},\n",
       "    'selected': False,\n",
       "    'dragging': False}],\n",
       "  'edges': [{'source': 'customInput-1',\n",
       "    'sourceHandle': 'customInput-1-value',\n",
       "    'target': 'dataLoader-1',\n",
       "    'targetHandle': 'dataLoader-1-url',\n",
       "    'type': 'defaultEdge',\n",
       "    'id': 'reactflow__edge-customInput-1customInput-1-value-dataLoader-1dataLoader-1-url'},\n",
       "   {'source': 'text-1',\n",
       "    'sourceHandle': 'text-1-output',\n",
       "    'target': 'vectorQuery-1',\n",
       "    'targetHandle': 'vectorQuery-1-query-0',\n",
       "    'type': 'defaultEdge',\n",
       "    'id': 'reactflow__edge-text-1text-1-output-vectorQuery-1vectorQuery-1-query-0'},\n",
       "   {'source': 'dataLoader-1',\n",
       "    'sourceHandle': 'dataLoader-1-output',\n",
       "    'target': 'vectorQuery-1',\n",
       "    'targetHandle': 'vectorQuery-1-documents',\n",
       "    'type': 'defaultEdge',\n",
       "    'id': 'reactflow__edge-dataLoader-1dataLoader-1-output-vectorQuery-1vectorQuery-1-documents'},\n",
       "   {'source': 'vectorQuery-1',\n",
       "    'sourceHandle': 'vectorQuery-1-query-result-0',\n",
       "    'target': 'text-2',\n",
       "    'targetHandle': 'text-2-Context',\n",
       "    'type': 'defaultEdge',\n",
       "    'id': 'reactflow__edge-vectorQuery-1vectorQuery-1-query-result-0-text-2text-2-Context'},\n",
       "   {'source': 'text-1',\n",
       "    'sourceHandle': 'text-1-output',\n",
       "    'target': 'text-2',\n",
       "    'targetHandle': 'text-2-Question',\n",
       "    'type': 'defaultEdge',\n",
       "    'id': 'reactflow__edge-text-1text-1-output-text-2text-2-Question'},\n",
       "   {'source': 'text-3',\n",
       "    'sourceHandle': 'text-3-output',\n",
       "    'target': 'llmOpenAI-1',\n",
       "    'targetHandle': 'llmOpenAI-1-system',\n",
       "    'type': 'defaultEdge',\n",
       "    'id': 'reactflow__edge-text-3text-3-output-llmOpenAI-1llmOpenAI-1-system'},\n",
       "   {'source': 'text-2',\n",
       "    'sourceHandle': 'text-2-output',\n",
       "    'target': 'llmOpenAI-1',\n",
       "    'targetHandle': 'llmOpenAI-1-prompt',\n",
       "    'type': 'defaultEdge',\n",
       "    'id': 'reactflow__edge-text-2text-2-output-llmOpenAI-1llmOpenAI-1-prompt'},\n",
       "   {'source': 'llmOpenAI-1',\n",
       "    'sourceHandle': 'llmOpenAI-1-response',\n",
       "    'target': 'text-4',\n",
       "    'targetHandle': 'text-4-Personalized_Message',\n",
       "    'type': 'defaultEdge',\n",
       "    'id': 'reactflow__edge-llmOpenAI-1llmOpenAI-1-response-text-4text-4-Personalized_Message'},\n",
       "   {'source': 'text-4',\n",
       "    'sourceHandle': 'text-4-output',\n",
       "    'target': 'customOutput-1',\n",
       "    'targetHandle': 'customOutput-1-value',\n",
       "    'type': 'defaultEdge',\n",
       "    'id': 'reactflow__edge-text-4text-4-output-customOutput-1customOutput-1-value'}],\n",
       "  'pipelineId': '668ea3fab665cebec9cf1a1c',\n",
       "  'userId': 'auth0|64cbd237b160e37c8c3510d4',\n",
       "  'orgId': 'Personal',\n",
       "  'id': '668ea3fab665cebec9cf1a1d'}}"
      ]
     },
     "execution_count": 20,
     "metadata": {},
     "output_type": "execute_result"
    }
   ],
   "source": [
    "config.save_new_pipeline(email_gen_pipeline)"
   ]
  },
  {
   "cell_type": "markdown",
   "id": "7d58d113",
   "metadata": {},
   "source": [
    "The constructed pipeline should be looks like figure below. You can check via VectorShift Dashboard -> Pipeline \n",
    "![alt text](images/7-combined.png \"Overall Pipeline\")"
   ]
  },
  {
   "cell_type": "markdown",
   "id": "65851faf",
   "metadata": {},
   "source": [
    "### Running a Pipeline\n",
    "\n",
    "To rune a pipeline, you need to fetch the name of pipeline you wanted to try, and then execute with pipeline.run"
   ]
  },
  {
   "cell_type": "code",
   "execution_count": 25,
   "id": "4e99e979",
   "metadata": {},
   "outputs": [],
   "source": [
    "pipeline = Pipeline.fetch(pipeline_name = 'Personalized Email Generator', api_key=vs_api_key)"
   ]
  },
  {
   "cell_type": "code",
   "execution_count": 27,
   "id": "ba06cf31",
   "metadata": {},
   "outputs": [],
   "source": [
    "response = pipeline.run(\n",
    "    inputs = {\"input_1\": \"https://www.vectorshift.ai/\"},\n",
    "    api_key= vs_api_key\n",
    ")"
   ]
  },
  {
   "cell_type": "code",
   "execution_count": 28,
   "id": "f79d88ee",
   "metadata": {},
   "outputs": [
    {
     "name": "stdout",
     "output_type": "stream",
     "text": [
      "{'Answer': '## J. Robert Oppenheimer: The Father of the Atomic Bomb\\n\\nJ. Robert Oppenheimer (1904-1967) was an American theoretical physicist who played a pivotal role in the development of the atomic bomb during World War II. He is often referred to as the \"father of the atomic bomb\" due to his leadership of the Manhattan Project, the top-secret research and development program that brought the bomb into existence.\\n\\n**Early Life and Education:**\\n\\n* Born in New York City to wealthy Jewish parents.\\n* Demonstrated exceptional academic talent from a young age.\\n* Earned his bachelor\\'s degree in physics from Harvard University in 1925.\\n* Received his doctorate in physics from the University of Göttingen in Germany in 1927.\\n\\n**Scientific Contributions:**\\n\\n* Made significant contributions to theoretical physics, particularly in the fields of quantum mechanics, nuclear physics, and astrophysics.\\n* Became a professor at the University of California, Berkeley in 1929.\\n* Led the establishment of the Los Alamos Laboratory in New Mexico, where the Manhattan Project was conducted.\\n\\n**The Manhattan Project and the Atomic Bomb:**\\n\\n* In 1942, Oppenheimer was chosen to lead the Manhattan Project due to his scientific expertise and leadership abilities.\\n* Under his direction, a team of brilliant scientists and engineers worked tirelessly to develop the first atomic bombs.\\n* The first successful test of an atomic bomb took place in New Mexico on July 16, 1945.\\n* The atomic bombs were used against the Japanese cities of Hiroshima and Nagasaki in August 1945, bringing an end to World War II.\\n\\n**Post-War Life and Legacy:**\\n\\n* After the war, Oppenheimer became a vocal advocate for nuclear disarmament and international control of atomic weapons.\\n* He served on the General Advisory Committee of the Atomic Energy Commission and played a key role in the development of the hydrogen bomb.\\n* However, his political views and association with the Communist Party led to security concerns and the loss of his security clearance in 1954.\\n* He continued to work as a physicist and scholar until his death in 1967.\\n\\n**Oppenheimer\\'s legacy is complex and controversial.** He is both celebrated as a scientific genius who helped bring an end to World War II and criticized for his role in the development of such a destructive weapon. His story raises important ethical and philosophical questions about the responsibilities of scientists and the use of technology in warfare.'}\n"
     ]
    }
   ],
   "source": [
    "print(response)"
   ]
  }
 ],
 "metadata": {
  "kernelspec": {
   "display_name": "Python 3 (ipykernel)",
   "language": "python",
   "name": "python3"
  },
  "language_info": {
   "codemirror_mode": {
    "name": "ipython",
    "version": 3
   },
   "file_extension": ".py",
   "mimetype": "text/x-python",
   "name": "python",
   "nbconvert_exporter": "python",
   "pygments_lexer": "ipython3",
   "version": "3.11.7"
  }
 },
 "nbformat": 4,
 "nbformat_minor": 5
}
