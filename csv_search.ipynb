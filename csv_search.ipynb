{
 "cells": [
  {
   "cell_type": "markdown",
   "metadata": {},
   "source": [
    "# CSV Document Search\n",
    "\n",
    "Pipeline to ask anything from your CSV file data like sales, performance, analytic, and so on."
   ]
  },
  {
   "cell_type": "markdown",
   "metadata": {},
   "source": [
    "## Installing Library\n",
    "\n",
    "To use the VectorShift Python library, you should be using Python 3.10 or newer.\n",
    "\n",
    "The SDK is built upon our API. To access much of the functionality, such as saving and downloading pipelines, you should already have an API key ready.\n",
    "\n",
    "Our Python SDK is available as the vectorshift package on PyPl. Before downloading, ensure you have pip installed. Then, you can simply get started by downloading the package by running the command in your terminal of choice:"
   ]
  },
  {
   "cell_type": "code",
   "execution_count": 2,
   "metadata": {},
   "outputs": [
    {
     "name": "stdout",
     "output_type": "stream",
     "text": [
      "Requirement already satisfied: vectorshift in c:\\users\\paras\\appdata\\local\\programs\\python\\python311\\lib\\site-packages (0.0.67)\n",
      "Requirement already satisfied: networkx==3.1 in c:\\users\\paras\\appdata\\local\\programs\\python\\python311\\lib\\site-packages (from vectorshift) (3.1)\n"
     ]
    },
    {
     "name": "stderr",
     "output_type": "stream",
     "text": [
      "\n",
      "[notice] A new release of pip is available: 23.3.2 -> 24.1.1\n",
      "[notice] To update, run: python.exe -m pip install --upgrade pip\n"
     ]
    }
   ],
   "source": [
    "! pip install vectorshift --upgrade"
   ]
  },
  {
   "cell_type": "markdown",
   "metadata": {},
   "source": [
    "## Pipeline Overview\n",
    "\n",
    "Chat memory allows chatbot to memorize the last n-conversation from the chats.\n",
    "\n",
    "![alt text](images/ask_csv/1-overview.png \"Overall Pipeline\")"
   ]
  },
  {
   "cell_type": "code",
   "execution_count": 3,
   "metadata": {},
   "outputs": [],
   "source": [
    "import vectorshift as vs\n",
    "from vectorshift.node import InputNode, URLLoaderNode, TextNode, SemanticSearchNode, OpenAILLMNode, OutputNode, ChatMemoryNode, CSVQueryLoaderNode\n",
    "from vectorshift.pipeline import Pipeline\n",
    "from vectorshift.knowledge_base import *"
   ]
  },
  {
   "cell_type": "markdown",
   "metadata": {},
   "source": [
    "## Define the Vectorshift API Key\n",
    "\n",
    "Put your vectorshift API key below."
   ]
  },
  {
   "cell_type": "code",
   "execution_count": 17,
   "metadata": {},
   "outputs": [],
   "source": [
    "vs_api_key = \"YOUR_API_KEY_HERE\"\n",
    "vs.api_key=vs_api_key"
   ]
  },
  {
   "cell_type": "markdown",
   "metadata": {},
   "source": [
    "## Create input Nodes\n",
    "\n",
    "For this pipeline we need to create two inputs. One for query and one for CSV File input. We create input_csv node input_type to \"file\" to receive CSV input. \n",
    "\n",
    "![alt text](images/ask_csv/2-inputs.png \"Overall Pipeline\")"
   ]
  },
  {
   "cell_type": "code",
   "execution_count": 5,
   "metadata": {},
   "outputs": [],
   "source": [
    "input_query = InputNode(name=\"Query\", input_type=\"text\")"
   ]
  },
  {
   "cell_type": "code",
   "execution_count": 6,
   "metadata": {},
   "outputs": [],
   "source": [
    "input_csv = InputNode(name=\"CSV\", input_type=\"file\", process_files=False)"
   ]
  },
  {
   "cell_type": "code",
   "execution_count": 20,
   "metadata": {},
   "outputs": [],
   "source": [
    "csv_loader = CSVQueryLoaderNode(query_input=input_query.output(),csv_input=input_csv.output())"
   ]
  },
  {
   "cell_type": "code",
   "execution_count": 22,
   "metadata": {},
   "outputs": [],
   "source": [
    "output_node = OutputNode(name=\"Output\", input=csv_loader.output(), output_type=\"text\")"
   ]
  },
  {
   "cell_type": "code",
   "execution_count": 23,
   "metadata": {},
   "outputs": [],
   "source": [
    "csv_search_nodes = [input_query, input_csv, csv_loader, output_node]\n",
    "csv_search_pipeline = Pipeline(\n",
    "    name=\"CSV Search Pipeline\",\n",
    "    description=\"This pipeline searches a CSV file for the given query and returns the result.\",\n",
    "    nodes=csv_search_nodes\n",
    ")"
   ]
  },
  {
   "cell_type": "code",
   "execution_count": null,
   "metadata": {},
   "outputs": [],
   "source": [
    "config = vectorshift.deploy.Config(\n",
    "    api_key=vs_api_key,\n",
    ")\n",
    "\n",
    "config.save_new_pipeline(csv_search_pipeline)"
   ]
  },
  {
   "cell_type": "markdown",
   "metadata": {},
   "source": [
    "## Running a Pipeline"
   ]
  },
  {
   "cell_type": "code",
   "execution_count": 25,
   "metadata": {},
   "outputs": [
    {
     "name": "stdout",
     "output_type": "stream",
     "text": [
      "{}\n"
     ]
    }
   ],
   "source": [
    "pipeline = Pipeline.fetch(pipeline_name='CSV Search Pipeline')\n",
    "\n",
    "response = pipeline.run(\n",
    "    inputs = {\"Query\": \"What is Laura's last name?\", \"CSV\": \"/email.csv\"},\n",
    "    api_key= vs_api_key\n",
    ")\n",
    "\n",
    "print(response)"
   ]
  }
 ],
 "metadata": {
  "kernelspec": {
   "display_name": "Python 3",
   "language": "python",
   "name": "python3"
  },
  "language_info": {
   "codemirror_mode": {
    "name": "ipython",
    "version": 3
   },
   "file_extension": ".py",
   "mimetype": "text/x-python",
   "name": "python",
   "nbconvert_exporter": "python",
   "pygments_lexer": "ipython3",
   "version": "3.11.7"
  }
 },
 "nbformat": 4,
 "nbformat_minor": 2
}
