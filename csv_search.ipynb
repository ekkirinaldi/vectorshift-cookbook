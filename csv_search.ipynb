{
 "cells": [
  {
   "cell_type": "markdown",
   "metadata": {},
   "source": [
    "# CSV Document Search\n",
    "\n",
    "Pipeline to ask anything from your CSV file data like sales, performance, analytic, and so on."
   ]
  },
  {
   "cell_type": "markdown",
   "metadata": {},
   "source": [
    "## Installing Library\n",
    "\n",
    "To use the VectorShift Python library, you should be using Python 3.10 or newer.\n",
    "\n",
    "The SDK is built upon our API. To access much of the functionality, such as saving and downloading pipelines, you should already have an API key ready.\n",
    "\n",
    "Our Python SDK is available as the vectorshift package on PyPl. Before downloading, ensure you have pip installed. Then, you can simply get started by downloading the package by running the command in your terminal of choice:"
   ]
  },
  {
   "cell_type": "code",
   "execution_count": 1,
   "metadata": {},
   "outputs": [
    {
     "name": "stdout",
     "output_type": "stream",
     "text": [
      "Requirement already satisfied: vectorshift in c:\\users\\paras\\appdata\\local\\programs\\python\\python311\\lib\\site-packages (0.0.67)\n",
      "Requirement already satisfied: networkx==3.1 in c:\\users\\paras\\appdata\\local\\programs\\python\\python311\\lib\\site-packages (from vectorshift) (3.1)\n"
     ]
    },
    {
     "name": "stderr",
     "output_type": "stream",
     "text": [
      "\n",
      "[notice] A new release of pip is available: 23.3.2 -> 24.1\n",
      "[notice] To update, run: python.exe -m pip install --upgrade pip\n"
     ]
    }
   ],
   "source": [
    "! pip install vectorshift --upgrade"
   ]
  },
  {
   "cell_type": "markdown",
   "metadata": {},
   "source": [
    "## Pipeline Overview\n",
    "\n",
    "Chat memory allows chatbot to memorize the last n-conversation from the chats.\n",
    "\n",
    "![alt text](images/ask_csv/1-overview.png \"Overall Pipeline\")"
   ]
  },
  {
   "cell_type": "code",
   "execution_count": 3,
   "metadata": {},
   "outputs": [],
   "source": [
    "import vectorshift as vs\n",
    "from vectorshift.node import InputNode, URLLoaderNode, TextNode, SemanticSearchNode, OpenAILLMNode, OutputNode, ChatMemoryNode, CSVQueryLoaderNode\n",
    "from vectorshift.pipeline import Pipeline\n",
    "from vectorshift.knowledge_base import *"
   ]
  },
  {
   "cell_type": "markdown",
   "metadata": {},
   "source": [
    "## Define the Vectorshift API Key\n",
    "\n",
    "Put your vectorshift API key below."
   ]
  },
  {
   "cell_type": "code",
   "execution_count": 4,
   "metadata": {},
   "outputs": [],
   "source": [
    "vectorshift.api_key=\"sk_gEVQxWypbU8avw2nxDxnooSdlaQkx6hUZXkzp3iDL17cJjiG\""
   ]
  },
  {
   "cell_type": "markdown",
   "metadata": {},
   "source": [
    "## Create input Nodes\n",
    "\n",
    "For this pipeline we need to create two inputs. One for query and one for CSV File input. We create input_csv node input_type to \"file\" to receive CSV input. \n",
    "\n",
    "![alt text](images/ask_csv/2-inputs.png \"Overall Pipeline\")"
   ]
  },
  {
   "cell_type": "code",
   "execution_count": 8,
   "metadata": {},
   "outputs": [],
   "source": [
    "input_query = InputNode(name=\"Query\", input_type=\"text\")"
   ]
  },
  {
   "cell_type": "code",
   "execution_count": 9,
   "metadata": {},
   "outputs": [],
   "source": [
    "input_csv = InputNode(name=\"CSV\", input_type=\"file\")"
   ]
  },
  {
   "cell_type": "code",
   "execution_count": 18,
   "metadata": {},
   "outputs": [
    {
     "ename": "ValueError",
     "evalue": "Invalid input type to CSV Query DataLoader node input csv: expected Union[csv_file, file, List[csv_file], List[file]], got text. If your input comes from an InputNode, make sure the input type is 'file' and the 'process_files' flag is set to False",
     "output_type": "error",
     "traceback": [
      "\u001b[1;31m---------------------------------------------------------------------------\u001b[0m",
      "\u001b[1;31mValueError\u001b[0m                                Traceback (most recent call last)",
      "Cell \u001b[1;32mIn[18], line 1\u001b[0m\n\u001b[1;32m----> 1\u001b[0m csv_loader \u001b[38;5;241m=\u001b[39m \u001b[43mCSVQueryLoaderNode\u001b[49m\u001b[43m(\u001b[49m\u001b[43mquery_input\u001b[49m\u001b[38;5;241;43m=\u001b[39;49m\u001b[43minput_query\u001b[49m\u001b[38;5;241;43m.\u001b[39;49m\u001b[43moutput\u001b[49m\u001b[43m(\u001b[49m\u001b[43m)\u001b[49m\u001b[43m,\u001b[49m\u001b[43mcsv_input\u001b[49m\u001b[38;5;241;43m=\u001b[39;49m\u001b[43minput_csv\u001b[49m\u001b[38;5;241;43m.\u001b[39;49m\u001b[43moutput\u001b[49m\u001b[43m(\u001b[49m\u001b[43m)\u001b[49m\u001b[43m)\u001b[49m\n",
      "File \u001b[1;32mc:\\Users\\paras\\AppData\\Local\\Programs\\Python\\Python311\\Lib\\site-packages\\vectorshift\\node.py:3456\u001b[0m, in \u001b[0;36mCSVQueryLoaderNode.__init__\u001b[1;34m(self, query_input, csv_input, **kwargs)\u001b[0m\n\u001b[0;32m   3455\u001b[0m \u001b[38;5;28;01mdef\u001b[39;00m \u001b[38;5;21m__init__\u001b[39m(\u001b[38;5;28mself\u001b[39m, query_input: \u001b[38;5;28mstr\u001b[39m \u001b[38;5;241m|\u001b[39m NodeOutput, csv_input: NodeOutput, \u001b[38;5;241m*\u001b[39m\u001b[38;5;241m*\u001b[39mkwargs):\n\u001b[1;32m-> 3456\u001b[0m     \u001b[38;5;28;43msuper\u001b[39;49m\u001b[43m(\u001b[49m\u001b[43m)\u001b[49m\u001b[38;5;241;43m.\u001b[39;49m\u001b[38;5;21;43m__init__\u001b[39;49m\u001b[43m(\u001b[49m\n\u001b[0;32m   3457\u001b[0m \u001b[43m        \u001b[49m\u001b[43mloader_type\u001b[49m\u001b[38;5;241;43m=\u001b[39;49m\u001b[38;5;124;43m'\u001b[39;49m\u001b[38;5;124;43mCSV Query\u001b[39;49m\u001b[38;5;124;43m'\u001b[39;49m\u001b[43m,\u001b[49m\n\u001b[0;32m   3458\u001b[0m \u001b[43m        \u001b[49m\u001b[43minputs\u001b[49m\u001b[38;5;241;43m=\u001b[39;49m\u001b[43m{\u001b[49m\u001b[38;5;124;43m'\u001b[39;49m\u001b[38;5;124;43mquery\u001b[39;49m\u001b[38;5;124;43m'\u001b[39;49m\u001b[43m:\u001b[49m\u001b[43m \u001b[49m\u001b[43m[\u001b[49m\u001b[43mquery_input\u001b[49m\u001b[43m]\u001b[49m\u001b[43m,\u001b[49m\u001b[43m \u001b[49m\u001b[38;5;124;43m'\u001b[39;49m\u001b[38;5;124;43mcsv\u001b[39;49m\u001b[38;5;124;43m'\u001b[39;49m\u001b[43m:\u001b[49m\u001b[43m \u001b[49m\u001b[43m[\u001b[49m\u001b[43mcsv_input\u001b[49m\u001b[43m]\u001b[49m\u001b[43m}\u001b[49m\u001b[43m,\u001b[49m\n\u001b[0;32m   3459\u001b[0m \u001b[43m        \u001b[49m\u001b[38;5;241;43m*\u001b[39;49m\u001b[38;5;241;43m*\u001b[39;49m\u001b[43mkwargs\u001b[49m\u001b[43m,\u001b[49m\n\u001b[0;32m   3460\u001b[0m \u001b[43m    \u001b[49m\u001b[43m)\u001b[49m\n",
      "File \u001b[1;32mc:\\Users\\paras\\AppData\\Local\\Programs\\Python\\Python311\\Lib\\site-packages\\vectorshift\\node.py:3220\u001b[0m, in \u001b[0;36mDataLoaderNode.__init__\u001b[1;34m(self, loader_type, inputs, chunk_size, chunk_overlap, func, **kwargs)\u001b[0m\n\u001b[0;32m   3216\u001b[0m             \u001b[38;5;28;01mraise\u001b[39;00m \u001b[38;5;167;01mValueError\u001b[39;00m(\n\u001b[0;32m   3217\u001b[0m                 \u001b[38;5;124mf\u001b[39m\u001b[38;5;124m'\u001b[39m\u001b[38;5;124mDataLoaderNode: value provided for input name \u001b[39m\u001b[38;5;132;01m{\u001b[39;00mk\u001b[38;5;132;01m}\u001b[39;00m\u001b[38;5;124m must be a list of NodeOutputs or a singleton list of a string.\u001b[39m\u001b[38;5;124m'\u001b[39m\n\u001b[0;32m   3218\u001b[0m             )\n\u001b[0;32m   3219\u001b[0m \u001b[38;5;28;01mif\u001b[39;00m \u001b[38;5;124m'\u001b[39m\u001b[38;5;124mskip_typecheck\u001b[39m\u001b[38;5;124m'\u001b[39m \u001b[38;5;129;01mnot\u001b[39;00m \u001b[38;5;129;01min\u001b[39;00m kwargs \u001b[38;5;129;01mor\u001b[39;00m \u001b[38;5;129;01mnot\u001b[39;00m kwargs[\u001b[38;5;124m'\u001b[39m\u001b[38;5;124mskip_typecheck\u001b[39m\u001b[38;5;124m'\u001b[39m]:\n\u001b[1;32m-> 3220\u001b[0m     \u001b[38;5;28;43mself\u001b[39;49m\u001b[38;5;241;43m.\u001b[39;49m\u001b[43mtypecheck_inputs\u001b[49m\u001b[43m(\u001b[49m\u001b[43m)\u001b[49m\n",
      "File \u001b[1;32mc:\\Users\\paras\\AppData\\Local\\Programs\\Python\\Python311\\Lib\\site-packages\\vectorshift\\node.py:3053\u001b[0m, in \u001b[0;36mDataLoaderNode.typecheck_inputs\u001b[1;34m(self)\u001b[0m\n\u001b[0;32m   3046\u001b[0m     check_type(\n\u001b[0;32m   3047\u001b[0m         \u001b[38;5;124m'\u001b[39m\u001b[38;5;124mCSV Query DataLoader node input query\u001b[39m\u001b[38;5;124m'\u001b[39m,\n\u001b[0;32m   3048\u001b[0m         inputs[\u001b[38;5;124m'\u001b[39m\u001b[38;5;124mquery\u001b[39m\u001b[38;5;124m'\u001b[39m][\u001b[38;5;241m0\u001b[39m],\n\u001b[0;32m   3049\u001b[0m         TEXT_TYPE,\n\u001b[0;32m   3050\u001b[0m         str_ok\u001b[38;5;241m=\u001b[39m\u001b[38;5;28;01mTrue\u001b[39;00m,\n\u001b[0;32m   3051\u001b[0m     )\n\u001b[0;32m   3052\u001b[0m     \u001b[38;5;66;03m# TODO: We probably don't want to accept lists of files\u001b[39;00m\n\u001b[1;32m-> 3053\u001b[0m     \u001b[43mcheck_type\u001b[49m\u001b[43m(\u001b[49m\n\u001b[0;32m   3054\u001b[0m \u001b[43m        \u001b[49m\u001b[38;5;124;43m'\u001b[39;49m\u001b[38;5;124;43mCSV Query DataLoader node input csv\u001b[39;49m\u001b[38;5;124;43m'\u001b[39;49m\u001b[43m,\u001b[49m\n\u001b[0;32m   3055\u001b[0m \u001b[43m        \u001b[49m\u001b[43minputs\u001b[49m\u001b[43m[\u001b[49m\u001b[38;5;124;43m'\u001b[39;49m\u001b[38;5;124;43mcsv\u001b[39;49m\u001b[38;5;124;43m'\u001b[39;49m\u001b[43m]\u001b[49m\u001b[43m[\u001b[49m\u001b[38;5;241;43m0\u001b[39;49m\u001b[43m]\u001b[49m\u001b[43m,\u001b[49m\n\u001b[0;32m   3056\u001b[0m \u001b[43m        \u001b[49m\u001b[43mUnionType\u001b[49m\u001b[43m(\u001b[49m\n\u001b[0;32m   3057\u001b[0m \u001b[43m            \u001b[49m\u001b[43mCSV_FILE_TYPE\u001b[49m\u001b[43m,\u001b[49m\n\u001b[0;32m   3058\u001b[0m \u001b[43m            \u001b[49m\u001b[43mFILE_TYPE\u001b[49m\u001b[43m,\u001b[49m\n\u001b[0;32m   3059\u001b[0m \u001b[43m            \u001b[49m\u001b[43mListType\u001b[49m\u001b[43m(\u001b[49m\u001b[43mCSV_FILE_TYPE\u001b[49m\u001b[43m)\u001b[49m\u001b[43m,\u001b[49m\n\u001b[0;32m   3060\u001b[0m \u001b[43m            \u001b[49m\u001b[43mListType\u001b[49m\u001b[43m(\u001b[49m\u001b[43mFILE_TYPE\u001b[49m\u001b[43m)\u001b[49m\u001b[43m,\u001b[49m\n\u001b[0;32m   3061\u001b[0m \u001b[43m        \u001b[49m\u001b[43m)\u001b[49m\u001b[43m,\u001b[49m\n\u001b[0;32m   3062\u001b[0m \u001b[43m    \u001b[49m\u001b[43m)\u001b[49m\n\u001b[0;32m   3063\u001b[0m \u001b[38;5;28;01mcase\u001b[39;00m \u001b[38;5;124m'\u001b[39m\u001b[38;5;124mURL\u001b[39m\u001b[38;5;124m'\u001b[39m:\n\u001b[0;32m   3064\u001b[0m     check_type(\n\u001b[0;32m   3065\u001b[0m         \u001b[38;5;124m'\u001b[39m\u001b[38;5;124mURL DataLoader node input url\u001b[39m\u001b[38;5;124m'\u001b[39m,\n\u001b[0;32m   3066\u001b[0m         inputs[\u001b[38;5;124m'\u001b[39m\u001b[38;5;124murl\u001b[39m\u001b[38;5;124m'\u001b[39m][\u001b[38;5;241m0\u001b[39m],\n\u001b[0;32m   3067\u001b[0m         URL_TYPE,\n\u001b[0;32m   3068\u001b[0m         str_ok\u001b[38;5;241m=\u001b[39m\u001b[38;5;28;01mTrue\u001b[39;00m,\n\u001b[0;32m   3069\u001b[0m     )\n",
      "File \u001b[1;32mc:\\Users\\paras\\AppData\\Local\\Programs\\Python\\Python311\\Lib\\site-packages\\vectorshift\\node_utils.py:213\u001b[0m, in \u001b[0;36mcheck_type\u001b[1;34m(name, output, expected_t, str_ok)\u001b[0m\n\u001b[0;32m    211\u001b[0m     \u001b[38;5;28;01mif\u001b[39;00m expected_t\u001b[38;5;241m.\u001b[39mintersects(FILE_TYPE):\n\u001b[0;32m    212\u001b[0m         error_msg \u001b[38;5;241m+\u001b[39m\u001b[38;5;241m=\u001b[39m \u001b[38;5;124m\"\u001b[39m\u001b[38;5;124m. If your input comes from an InputNode, make sure the input type is \u001b[39m\u001b[38;5;124m'\u001b[39m\u001b[38;5;124mfile\u001b[39m\u001b[38;5;124m'\u001b[39m\u001b[38;5;124m and the \u001b[39m\u001b[38;5;124m'\u001b[39m\u001b[38;5;124mprocess_files\u001b[39m\u001b[38;5;124m'\u001b[39m\u001b[38;5;124m flag is set to False\u001b[39m\u001b[38;5;124m\"\u001b[39m\n\u001b[1;32m--> 213\u001b[0m     \u001b[38;5;28;01mraise\u001b[39;00m \u001b[38;5;167;01mValueError\u001b[39;00m(error_msg)\n\u001b[0;32m    214\u001b[0m \u001b[38;5;28;01melif\u001b[39;00m \u001b[38;5;129;01mnot\u001b[39;00m t\u001b[38;5;241m.\u001b[39mis_subset(expected_t):\n\u001b[0;32m    215\u001b[0m     \u001b[38;5;28mprint\u001b[39m(\n\u001b[0;32m    216\u001b[0m         \u001b[38;5;124mf\u001b[39m\u001b[38;5;124m'\u001b[39m\u001b[38;5;124mWARNING: \u001b[39m\u001b[38;5;132;01m{\u001b[39;00mname\u001b[38;5;132;01m}\u001b[39;00m\u001b[38;5;124m received input type \u001b[39m\u001b[38;5;132;01m{\u001b[39;00mt\u001b[38;5;132;01m}\u001b[39;00m\u001b[38;5;124m, which may be incompatible with expected type \u001b[39m\u001b[38;5;132;01m{\u001b[39;00mexpected_t\u001b[38;5;132;01m}\u001b[39;00m\u001b[38;5;124m'\u001b[39m\n\u001b[0;32m    217\u001b[0m     )\n",
      "\u001b[1;31mValueError\u001b[0m: Invalid input type to CSV Query DataLoader node input csv: expected Union[csv_file, file, List[csv_file], List[file]], got text. If your input comes from an InputNode, make sure the input type is 'file' and the 'process_files' flag is set to False"
     ]
    }
   ],
   "source": [
    "csv_loader = CSVQueryLoaderNode(query_input=input_query.output(),csv_input=input_csv.output())"
   ]
  },
  {
   "cell_type": "code",
   "execution_count": null,
   "metadata": {},
   "outputs": [],
   "source": [
    "output_node = OutputNode(name=\"Output\", input_node=csv_loader.output(), output_type=\"image\")"
   ]
  },
  {
   "cell_type": "code",
   "execution_count": null,
   "metadata": {},
   "outputs": [],
   "source": [
    "csv_search_nodes = [input_query, input_csv, csv_loader, output_node]\n",
    "csv_search_pipeline = Pipeline(\n",
    "    name=\"CSV Search Pipeline\",\n",
    "    description=\"This pipeline searches a CSV file for the given query and returns the result.\",\n",
    "    nodes=csv_search_nodes\n",
    ")"
   ]
  },
  {
   "cell_type": "code",
   "execution_count": null,
   "metadata": {},
   "outputs": [],
   "source": [
    "config = vectorshift.deploy.Config(\n",
    "    api_key=\"sk_gEVQxWypbU8avw2nxDxnooSdlaQkx6hUZXkzp3iDL17cJjiG\",\n",
    ")\n",
    "\n",
    "config.save_new_pipeline(csv_search_pipeline)"
   ]
  },
  {
   "cell_type": "markdown",
   "metadata": {},
   "source": [
    "## Running a Pipeline"
   ]
  },
  {
   "cell_type": "code",
   "execution_count": null,
   "metadata": {},
   "outputs": [],
   "source": [
    "pipeline = Pipeline.fetch(pipeline_name='Vectorshift Chatbot')\n",
    "\n",
    "response = pipeline.run(\n",
    "    inputs = {\"input_1\": \"https://www.vectorshift.ai/\", \"input_2\": \"/files/pdf.pdf\"},\n",
    "    api_key= \"sk_gEVQxWypbU8avw2nxDxnooSdlaQkx6hUZXkzp3iDL17cJjiG\"\n",
    ")\n",
    "\n",
    "print(response)"
   ]
  }
 ],
 "metadata": {
  "kernelspec": {
   "display_name": "Python 3",
   "language": "python",
   "name": "python3"
  },
  "language_info": {
   "codemirror_mode": {
    "name": "ipython",
    "version": 3
   },
   "file_extension": ".py",
   "mimetype": "text/x-python",
   "name": "python",
   "nbconvert_exporter": "python",
   "pygments_lexer": "ipython3",
   "version": "3.11.7"
  }
 },
 "nbformat": 4,
 "nbformat_minor": 2
}
