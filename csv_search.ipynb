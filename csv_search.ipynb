{
 "cells": [
  {
   "cell_type": "markdown",
   "metadata": {},
   "source": [
    "# CSV Document Search\n",
    "\n",
    "Pipeline to ask anything from your CSV file data like sales, performance, analytic, and so on."
   ]
  },
  {
   "cell_type": "markdown",
   "metadata": {},
   "source": [
    "## Installing Library\n",
    "\n",
    "To use the VectorShift Python library, you should be using Python 3.10 or newer.\n",
    "\n",
    "The SDK is built upon our API. To access much of the functionality, such as saving and downloading pipelines, you should already have an API key ready.\n",
    "\n",
    "Our Python SDK is available as the vectorshift package on PyPl. Before downloading, ensure you have pip installed. Then, you can simply get started by downloading the package by running the command in your terminal of choice:"
   ]
  },
  {
   "cell_type": "code",
   "execution_count": 1,
   "metadata": {},
   "outputs": [
    {
     "name": "stdout",
     "output_type": "stream",
     "text": [
      "Requirement already satisfied: vectorshift in /opt/anaconda3/lib/python3.11/site-packages (0.0.69)\n",
      "Requirement already satisfied: networkx==3.1 in /opt/anaconda3/lib/python3.11/site-packages (from vectorshift) (3.1)\n"
     ]
    }
   ],
   "source": [
    "! pip install vectorshift --upgrade"
   ]
  },
  {
   "cell_type": "markdown",
   "metadata": {},
   "source": [
    "## Pipeline Overview\n",
    "\n",
    "Chat memory allows chatbot to memorize the last n-conversation from the chats.\n",
    "\n",
    "![alt text](images/ask_csv/1-overview.png \"Overall Pipeline\")"
   ]
  },
  {
   "cell_type": "code",
   "execution_count": 2,
   "metadata": {},
   "outputs": [],
   "source": [
    "import vectorshift as vs\n",
    "from vectorshift.node import InputNode, URLLoaderNode, TextNode, SemanticSearchNode, OpenAILLMNode, OutputNode, ChatMemoryNode, CSVQueryLoaderNode\n",
    "from vectorshift.pipeline import Pipeline\n",
    "from vectorshift.knowledge_base import *"
   ]
  },
  {
   "cell_type": "markdown",
   "metadata": {},
   "source": [
    "## Define the Vectorshift API Key\n",
    "\n",
    "Put your vectorshift API key below."
   ]
  },
  {
   "cell_type": "code",
   "execution_count": 3,
   "metadata": {},
   "outputs": [],
   "source": [
    "vs_api_key = \"YOUR_API_KEY\""
   ]
  },
  {
   "cell_type": "markdown",
   "metadata": {},
   "source": [
    "## Create input Nodes\n",
    "\n",
    "For this pipeline we need to create two inputs. One for query and one for CSV File input. We create input_csv node input_type to \"file\" to receive CSV input. \n",
    "\n",
    "![alt text](images/ask_csv/2-inputs.png \"Overall Pipeline\")"
   ]
  },
  {
   "cell_type": "code",
   "execution_count": 4,
   "metadata": {},
   "outputs": [],
   "source": [
    "input_query = InputNode(name=\"Query\", input_type=\"text\")"
   ]
  },
  {
   "cell_type": "code",
   "execution_count": 5,
   "metadata": {},
   "outputs": [],
   "source": [
    "input_csv = InputNode(name=\"CSV\", input_type=\"file\", process_files=False)"
   ]
  },
  {
   "cell_type": "code",
   "execution_count": 6,
   "metadata": {},
   "outputs": [],
   "source": [
    "csv_loader = CSVQueryLoaderNode(query_input=input_query.output(),csv_input=input_csv.output())"
   ]
  },
  {
   "cell_type": "code",
   "execution_count": 8,
   "metadata": {},
   "outputs": [],
   "source": [
    "output_node = OutputNode(name=\"Output\", input=csv_loader.output(), output_type=\"text\")"
   ]
  },
  {
   "cell_type": "code",
   "execution_count": 9,
   "metadata": {},
   "outputs": [],
   "source": [
    "csv_search_nodes = [input_query, input_csv, csv_loader, output_node]\n",
    "csv_search_pipeline = Pipeline(\n",
    "    name=\"CSV Search Pipeline\",\n",
    "    description=\"This pipeline searches a CSV file for the given query and returns the result.\",\n",
    "    nodes=csv_search_nodes\n",
    ")"
   ]
  },
  {
   "cell_type": "code",
   "execution_count": 11,
   "metadata": {},
   "outputs": [
    {
     "name": "stdout",
     "output_type": "stream",
     "text": [
      "Successfully saved pipeline with ID 668eb476b665cebec9cf1c58.\n"
     ]
    },
    {
     "data": {
      "text/plain": [
       "{'pipeline': {'name': 'CSV Search Pipeline',\n",
       "  'description': 'This pipeline searches a CSV file for the given query and returns the result.',\n",
       "  'nodes': [{'id': 'customInput-1',\n",
       "    'type': 'customInput',\n",
       "    'data': {'id': 'customInput-1',\n",
       "     'nodeType': 'customInput',\n",
       "     'category': 'input',\n",
       "     'task_name': 'input',\n",
       "     'inputName': 'input_1',\n",
       "     'inputType': 'Text'},\n",
       "    'position': {'x': 0, 'y': -400},\n",
       "    'positionAbsolute': {'x': 0, 'y': -400},\n",
       "    'selected': False,\n",
       "    'dragging': False},\n",
       "   {'id': 'customInput-2',\n",
       "    'type': 'customInput',\n",
       "    'data': {'id': 'customInput-2',\n",
       "     'nodeType': 'customInput',\n",
       "     'category': 'input',\n",
       "     'task_name': 'input',\n",
       "     'inputName': 'CSV',\n",
       "     'inputType': 'File',\n",
       "     'processFiles': False},\n",
       "    'position': {'x': 0, 'y': 0},\n",
       "    'positionAbsolute': {'x': 0, 'y': 0},\n",
       "    'selected': False,\n",
       "    'dragging': False},\n",
       "   {'id': 'dataLoader-1',\n",
       "    'type': 'dataLoader',\n",
       "    'data': {'id': 'dataLoader-1',\n",
       "     'nodeType': 'dataLoader',\n",
       "     'category': 'task',\n",
       "     'task_name': 'query_csv',\n",
       "     'loaderType': 'CSV Query',\n",
       "     'function': 'default',\n",
       "     'chunkSize': 400,\n",
       "     'chunkOverlap': 0},\n",
       "    'position': {'x': 500, 'y': 0},\n",
       "    'positionAbsolute': {'x': 500, 'y': 0},\n",
       "    'selected': False,\n",
       "    'dragging': False},\n",
       "   {'id': 'customOutput-1',\n",
       "    'type': 'customOutput',\n",
       "    'data': {'id': 'customOutput-1',\n",
       "     'nodeType': 'customOutput',\n",
       "     'category': 'output',\n",
       "     'task_name': 'output',\n",
       "     'outputName': 'Output',\n",
       "     'outputType': 'Text'},\n",
       "    'position': {'x': 1000, 'y': 0},\n",
       "    'positionAbsolute': {'x': 1000, 'y': 0},\n",
       "    'selected': False,\n",
       "    'dragging': False}],\n",
       "  'edges': [{'source': 'customInput-1',\n",
       "    'sourceHandle': 'customInput-1-value',\n",
       "    'target': 'dataLoader-1',\n",
       "    'targetHandle': 'dataLoader-1-query',\n",
       "    'type': 'defaultEdge',\n",
       "    'id': 'reactflow__edge-customInput-1customInput-1-value-dataLoader-1dataLoader-1-query'},\n",
       "   {'source': 'customInput-2',\n",
       "    'sourceHandle': 'customInput-2-value',\n",
       "    'target': 'dataLoader-1',\n",
       "    'targetHandle': 'dataLoader-1-csv',\n",
       "    'type': 'defaultEdge',\n",
       "    'id': 'reactflow__edge-customInput-2customInput-2-value-dataLoader-1dataLoader-1-csv'},\n",
       "   {'source': 'dataLoader-1',\n",
       "    'sourceHandle': 'dataLoader-1-output',\n",
       "    'target': 'customOutput-1',\n",
       "    'targetHandle': 'customOutput-1-value',\n",
       "    'type': 'defaultEdge',\n",
       "    'id': 'reactflow__edge-dataLoader-1dataLoader-1-output-customOutput-1customOutput-1-value'}],\n",
       "  'inputs': {'customInput-1': {'name': 'input_1', 'type': 'Text'},\n",
       "   'customInput-2': {'name': 'CSV', 'type': 'File'}},\n",
       "  'outputs': {'customOutput-1': {'name': 'Output', 'type': 'Text'}},\n",
       "  'nodeIDs': {'customInput': 2, 'dataLoader': 1, 'customOutput': 1},\n",
       "  'zipOutputs': False,\n",
       "  'share_status': 'owned',\n",
       "  'createdDate': '2024-07-10T16:19:02.450025+00:00',\n",
       "  'modifiedDate': '2024-07-10T16:19:02.450028+00:00',\n",
       "  'userID': 'auth0|64cbd237b160e37c8c3510d4',\n",
       "  'orgID': 'Personal',\n",
       "  'username': 'ekkirinaldi',\n",
       "  'orgName': None,\n",
       "  'email': 'ekkirinaldi@gmail.com',\n",
       "  'sharedUsers': [],\n",
       "  'id': '668eb476b665cebec9cf1c58'},\n",
       " 'branch': {'nodes': [{'id': 'customInput-1',\n",
       "    'type': 'customInput',\n",
       "    'data': {'id': 'customInput-1',\n",
       "     'nodeType': 'customInput',\n",
       "     'category': 'input',\n",
       "     'task_name': 'input',\n",
       "     'inputName': 'input_1',\n",
       "     'inputType': 'Text'},\n",
       "    'position': {'x': 0, 'y': -400},\n",
       "    'positionAbsolute': {'x': 0, 'y': -400},\n",
       "    'selected': False,\n",
       "    'dragging': False},\n",
       "   {'id': 'customInput-2',\n",
       "    'type': 'customInput',\n",
       "    'data': {'id': 'customInput-2',\n",
       "     'nodeType': 'customInput',\n",
       "     'category': 'input',\n",
       "     'task_name': 'input',\n",
       "     'inputName': 'CSV',\n",
       "     'inputType': 'File',\n",
       "     'processFiles': False},\n",
       "    'position': {'x': 0, 'y': 0},\n",
       "    'positionAbsolute': {'x': 0, 'y': 0},\n",
       "    'selected': False,\n",
       "    'dragging': False},\n",
       "   {'id': 'dataLoader-1',\n",
       "    'type': 'dataLoader',\n",
       "    'data': {'id': 'dataLoader-1',\n",
       "     'nodeType': 'dataLoader',\n",
       "     'category': 'task',\n",
       "     'task_name': 'query_csv',\n",
       "     'loaderType': 'CSV Query',\n",
       "     'function': 'default',\n",
       "     'chunkSize': 400,\n",
       "     'chunkOverlap': 0},\n",
       "    'position': {'x': 500, 'y': 0},\n",
       "    'positionAbsolute': {'x': 500, 'y': 0},\n",
       "    'selected': False,\n",
       "    'dragging': False},\n",
       "   {'id': 'customOutput-1',\n",
       "    'type': 'customOutput',\n",
       "    'data': {'id': 'customOutput-1',\n",
       "     'nodeType': 'customOutput',\n",
       "     'category': 'output',\n",
       "     'task_name': 'output',\n",
       "     'outputName': 'Output',\n",
       "     'outputType': 'Text'},\n",
       "    'position': {'x': 1000, 'y': 0},\n",
       "    'positionAbsolute': {'x': 1000, 'y': 0},\n",
       "    'selected': False,\n",
       "    'dragging': False}],\n",
       "  'edges': [{'source': 'customInput-1',\n",
       "    'sourceHandle': 'customInput-1-value',\n",
       "    'target': 'dataLoader-1',\n",
       "    'targetHandle': 'dataLoader-1-query',\n",
       "    'type': 'defaultEdge',\n",
       "    'id': 'reactflow__edge-customInput-1customInput-1-value-dataLoader-1dataLoader-1-query'},\n",
       "   {'source': 'customInput-2',\n",
       "    'sourceHandle': 'customInput-2-value',\n",
       "    'target': 'dataLoader-1',\n",
       "    'targetHandle': 'dataLoader-1-csv',\n",
       "    'type': 'defaultEdge',\n",
       "    'id': 'reactflow__edge-customInput-2customInput-2-value-dataLoader-1dataLoader-1-csv'},\n",
       "   {'source': 'dataLoader-1',\n",
       "    'sourceHandle': 'dataLoader-1-output',\n",
       "    'target': 'customOutput-1',\n",
       "    'targetHandle': 'customOutput-1-value',\n",
       "    'type': 'defaultEdge',\n",
       "    'id': 'reactflow__edge-dataLoader-1dataLoader-1-output-customOutput-1customOutput-1-value'}],\n",
       "  'pipelineId': '668eb476b665cebec9cf1c58',\n",
       "  'userId': 'auth0|64cbd237b160e37c8c3510d4',\n",
       "  'orgId': 'Personal',\n",
       "  'id': '668eb476b665cebec9cf1c59'}}"
      ]
     },
     "execution_count": 11,
     "metadata": {},
     "output_type": "execute_result"
    }
   ],
   "source": [
    "config = vectorshift.deploy.Config(\n",
    "    api_key=vs_api_key,\n",
    ")\n",
    "\n",
    "config.save_new_pipeline(csv_search_pipeline)"
   ]
  },
  {
   "cell_type": "markdown",
   "metadata": {},
   "source": [
    "## Running a Pipeline"
   ]
  },
  {
   "cell_type": "code",
   "execution_count": 12,
   "metadata": {},
   "outputs": [
    {
     "name": "stdout",
     "output_type": "stream",
     "text": [
      "{}\n"
     ]
    }
   ],
   "source": [
    "pipeline = Pipeline.fetch(pipeline_name='CSV Search Pipeline')\n",
    "\n",
    "response = pipeline.run(\n",
    "    inputs = {\"Query\": \"Who is oppenheimer?\", \"CSV\": \"\"},\n",
    "    api_key=vs_api_key\n",
    ")\n",
    "\n",
    "print(response)"
   ]
  }
 ],
 "metadata": {
  "kernelspec": {
   "display_name": "Python 3",
   "language": "python",
   "name": "python3"
  },
  "language_info": {
   "codemirror_mode": {
    "name": "ipython",
    "version": 3
   },
   "file_extension": ".py",
   "mimetype": "text/x-python",
   "name": "python",
   "nbconvert_exporter": "python",
   "pygments_lexer": "ipython3",
   "version": "3.11.7"
  }
 },
 "nbformat": 4,
 "nbformat_minor": 2
}
