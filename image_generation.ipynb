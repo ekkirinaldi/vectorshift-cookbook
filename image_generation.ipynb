{
 "cells": [
  {
   "cell_type": "markdown",
   "metadata": {},
   "source": [
    "# Image Generation\n",
    "Pipeline to generate image based on DALL-E"
   ]
  },
  {
   "cell_type": "markdown",
   "metadata": {},
   "source": [
    "## Installing Library\n",
    "\n",
    "To use the VectorShift Python library, you should be using Python 3.10 or newer.\n",
    "\n",
    "The SDK is built upon our API. To access much of the functionality, such as saving and downloading pipelines, you should already have an API key ready.\n",
    "\n",
    "Our Python SDK is available as the vectorshift package on PyPl. Before downloading, ensure you have pip installed. Then, you can simply get started by downloading the package by running the command in your terminal of choice:"
   ]
  },
  {
   "cell_type": "code",
   "execution_count": 1,
   "metadata": {},
   "outputs": [
    {
     "name": "stdout",
     "output_type": "stream",
     "text": [
      "Requirement already satisfied: vectorshift in /opt/anaconda3/lib/python3.11/site-packages (0.0.69)\n",
      "Requirement already satisfied: networkx==3.1 in /opt/anaconda3/lib/python3.11/site-packages (from vectorshift) (3.1)\n"
     ]
    }
   ],
   "source": [
    "! pip install vectorshift --upgrade"
   ]
  },
  {
   "cell_type": "code",
   "execution_count": 2,
   "metadata": {},
   "outputs": [],
   "source": [
    "import vectorshift as vs\n",
    "from vectorshift.node import InputNode, URLLoaderNode, TextNode, SemanticSearchNode, OpenAILLMNode, OutputNode, ChatMemoryNode, ImageGenNode\n",
    "from vectorshift.pipeline import Pipeline\n",
    "from vectorshift.knowledge_base import *"
   ]
  },
  {
   "cell_type": "markdown",
   "metadata": {},
   "source": [
    "## Pipeline Overview"
   ]
  },
  {
   "cell_type": "code",
   "execution_count": 3,
   "metadata": {},
   "outputs": [],
   "source": [
    "vs_api_key = \"YOUR_API_KEY\"\n",
    "vs.api_key = vs_api_key"
   ]
  },
  {
   "cell_type": "code",
   "execution_count": 4,
   "metadata": {},
   "outputs": [],
   "source": [
    "input_node = InputNode(name=\"Query\", input_type=\"text\")"
   ]
  },
  {
   "cell_type": "code",
   "execution_count": 5,
   "metadata": {},
   "outputs": [],
   "source": [
    "image_gen = ImageGenNode(name=\"ImageGen\", prompt_input=input_node.output(), model=\"DALL-E 3\", image_size= (1024, 1792), num_images=1)"
   ]
  },
  {
   "cell_type": "code",
   "execution_count": 6,
   "metadata": {},
   "outputs": [],
   "source": [
    "output_node = OutputNode(name=\"Output\", input=image_gen.output(), output_type=\"image\")"
   ]
  },
  {
   "cell_type": "markdown",
   "metadata": {},
   "source": [
    "## Compiling Nodes"
   ]
  },
  {
   "cell_type": "code",
   "execution_count": 7,
   "metadata": {},
   "outputs": [],
   "source": [
    "image_gen_nodes = [\n",
    "    input_node, image_gen, output_node\n",
    "]\n",
    "\n",
    "image_gen_pipeline = Pipeline(\n",
    "    name=\"image Generation Pipeline\",\n",
    "    description=\"This pipeline generates images based on the input query\",\n",
    "    nodes=image_gen_nodes\n",
    "    )"
   ]
  },
  {
   "cell_type": "code",
   "execution_count": 8,
   "metadata": {},
   "outputs": [
    {
     "name": "stdout",
     "output_type": "stream",
     "text": [
      "Successfully saved pipeline with ID 668ea10ca9e3a72447b7d12e.\n"
     ]
    },
    {
     "data": {
      "text/plain": [
       "{'pipeline': {'name': 'image Generation Pipeline',\n",
       "  'description': 'This pipeline generates images based on the input query',\n",
       "  'nodes': [{'id': 'customInput-1',\n",
       "    'type': 'customInput',\n",
       "    'data': {'id': 'customInput-1',\n",
       "     'nodeType': 'customInput',\n",
       "     'category': 'input',\n",
       "     'task_name': 'input',\n",
       "     'inputName': 'Query',\n",
       "     'inputType': 'Text'},\n",
       "    'position': {'x': 0, 'y': 50},\n",
       "    'positionAbsolute': {'x': 0, 'y': 50},\n",
       "    'selected': False,\n",
       "    'dragging': False},\n",
       "   {'id': 'imageGen-1',\n",
       "    'type': 'imageGen',\n",
       "    'data': {'id': 'imageGen-1',\n",
       "     'nodeType': 'imageGen',\n",
       "     'category': 'task',\n",
       "     'task_name': 'generate_image',\n",
       "     'model': 'DALL·E 3',\n",
       "     'prompt': '',\n",
       "     'size': '1024x1792',\n",
       "     'imageCount': 1},\n",
       "    'position': {'x': 500, 'y': -50},\n",
       "    'positionAbsolute': {'x': 500, 'y': -50},\n",
       "    'selected': False,\n",
       "    'dragging': False},\n",
       "   {'id': 'customOutput-1',\n",
       "    'type': 'customOutput',\n",
       "    'data': {'id': 'customOutput-1',\n",
       "     'nodeType': 'customOutput',\n",
       "     'category': 'output',\n",
       "     'task_name': 'output',\n",
       "     'outputName': 'Output',\n",
       "     'outputType': 'Image'},\n",
       "    'position': {'x': 1000, 'y': 50},\n",
       "    'positionAbsolute': {'x': 1000, 'y': 50},\n",
       "    'selected': False,\n",
       "    'dragging': False}],\n",
       "  'edges': [{'source': 'customInput-1',\n",
       "    'sourceHandle': 'customInput-1-value',\n",
       "    'target': 'imageGen-1',\n",
       "    'targetHandle': 'imageGen-1-prompt',\n",
       "    'type': 'defaultEdge',\n",
       "    'id': 'reactflow__edge-customInput-1customInput-1-value-imageGen-1imageGen-1-prompt'},\n",
       "   {'source': 'imageGen-1',\n",
       "    'sourceHandle': 'imageGen-1-images',\n",
       "    'target': 'customOutput-1',\n",
       "    'targetHandle': 'customOutput-1-value',\n",
       "    'type': 'defaultEdge',\n",
       "    'id': 'reactflow__edge-imageGen-1imageGen-1-images-customOutput-1customOutput-1-value'}],\n",
       "  'inputs': {'customInput-1': {'name': 'Query', 'type': 'Text'}},\n",
       "  'outputs': {'customOutput-1': {'name': 'Output', 'type': 'Image'}},\n",
       "  'nodeIDs': {'customInput': 1, 'imageGen': 1, 'customOutput': 1},\n",
       "  'zipOutputs': False,\n",
       "  'share_status': 'owned',\n",
       "  'createdDate': '2024-07-10T14:56:12.863429+00:00',\n",
       "  'modifiedDate': '2024-07-10T14:56:12.863432+00:00',\n",
       "  'userID': 'auth0|64cbd237b160e37c8c3510d4',\n",
       "  'orgID': 'Personal',\n",
       "  'username': 'ekkirinaldi',\n",
       "  'orgName': None,\n",
       "  'email': 'ekkirinaldi@gmail.com',\n",
       "  'sharedUsers': [],\n",
       "  'id': '668ea10ca9e3a72447b7d12e'},\n",
       " 'branch': {'nodes': [{'id': 'customInput-1',\n",
       "    'type': 'customInput',\n",
       "    'data': {'id': 'customInput-1',\n",
       "     'nodeType': 'customInput',\n",
       "     'category': 'input',\n",
       "     'task_name': 'input',\n",
       "     'inputName': 'Query',\n",
       "     'inputType': 'Text'},\n",
       "    'position': {'x': 0, 'y': 50},\n",
       "    'positionAbsolute': {'x': 0, 'y': 50},\n",
       "    'selected': False,\n",
       "    'dragging': False},\n",
       "   {'id': 'imageGen-1',\n",
       "    'type': 'imageGen',\n",
       "    'data': {'id': 'imageGen-1',\n",
       "     'nodeType': 'imageGen',\n",
       "     'category': 'task',\n",
       "     'task_name': 'generate_image',\n",
       "     'model': 'DALL·E 3',\n",
       "     'prompt': '',\n",
       "     'size': '1024x1792',\n",
       "     'imageCount': 1},\n",
       "    'position': {'x': 500, 'y': -50},\n",
       "    'positionAbsolute': {'x': 500, 'y': -50},\n",
       "    'selected': False,\n",
       "    'dragging': False},\n",
       "   {'id': 'customOutput-1',\n",
       "    'type': 'customOutput',\n",
       "    'data': {'id': 'customOutput-1',\n",
       "     'nodeType': 'customOutput',\n",
       "     'category': 'output',\n",
       "     'task_name': 'output',\n",
       "     'outputName': 'Output',\n",
       "     'outputType': 'Image'},\n",
       "    'position': {'x': 1000, 'y': 50},\n",
       "    'positionAbsolute': {'x': 1000, 'y': 50},\n",
       "    'selected': False,\n",
       "    'dragging': False}],\n",
       "  'edges': [{'source': 'customInput-1',\n",
       "    'sourceHandle': 'customInput-1-value',\n",
       "    'target': 'imageGen-1',\n",
       "    'targetHandle': 'imageGen-1-prompt',\n",
       "    'type': 'defaultEdge',\n",
       "    'id': 'reactflow__edge-customInput-1customInput-1-value-imageGen-1imageGen-1-prompt'},\n",
       "   {'source': 'imageGen-1',\n",
       "    'sourceHandle': 'imageGen-1-images',\n",
       "    'target': 'customOutput-1',\n",
       "    'targetHandle': 'customOutput-1-value',\n",
       "    'type': 'defaultEdge',\n",
       "    'id': 'reactflow__edge-imageGen-1imageGen-1-images-customOutput-1customOutput-1-value'}],\n",
       "  'pipelineId': '668ea10ca9e3a72447b7d12e',\n",
       "  'userId': 'auth0|64cbd237b160e37c8c3510d4',\n",
       "  'orgId': 'Personal',\n",
       "  'id': '668ea10ca9e3a72447b7d12f'}}"
      ]
     },
     "execution_count": 8,
     "metadata": {},
     "output_type": "execute_result"
    }
   ],
   "source": [
    "config = vectorshift.deploy.Config(\n",
    "    api_key=vs_api_key,\n",
    ")\n",
    "\n",
    "config.save_new_pipeline(image_gen_pipeline)"
   ]
  },
  {
   "cell_type": "markdown",
   "metadata": {},
   "source": [
    "## Run the Pipeline"
   ]
  },
  {
   "cell_type": "code",
   "execution_count": 9,
   "metadata": {},
   "outputs": [],
   "source": [
    "import base64\n",
    "\n",
    "pipeline = Pipeline.fetch(pipeline_name='image Generation Pipeline')\n",
    "\n",
    "response = pipeline.run(\n",
    "    inputs = {\"Query\": \"a beautiful cat\"},\n",
    "    api_key= vs_api_key\n",
    ")\n",
    "\n",
    "image_bytes = base64.b64decode(response['Output']['images'][0])\n",
    "\n",
    "with open('output_image.png', 'wb') as image_file:\n",
    "    image_file.write(image_bytes)\n",
    "\n"
   ]
  }
 ],
 "metadata": {
  "kernelspec": {
   "display_name": "Python 3",
   "language": "python",
   "name": "python3"
  },
  "language_info": {
   "codemirror_mode": {
    "name": "ipython",
    "version": 3
   },
   "file_extension": ".py",
   "mimetype": "text/x-python",
   "name": "python",
   "nbconvert_exporter": "python",
   "pygments_lexer": "ipython3",
   "version": "3.11.7"
  }
 },
 "nbformat": 4,
 "nbformat_minor": 2
}
