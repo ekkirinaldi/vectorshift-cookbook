{
 "cells": [
  {
   "cell_type": "markdown",
   "metadata": {},
   "source": [
    "# Document Search Pipeline\n",
    "\n",
    "Ask anything related to documment and get answer based on the context from document."
   ]
  },
  {
   "cell_type": "code",
   "execution_count": 1,
   "metadata": {},
   "outputs": [
    {
     "name": "stdout",
     "output_type": "stream",
     "text": [
      "Requirement already satisfied: vectorshift in c:\\users\\paras\\appdata\\local\\programs\\python\\python311\\lib\\site-packages (0.0.67)\n",
      "Requirement already satisfied: networkx==3.1 in c:\\users\\paras\\appdata\\local\\programs\\python\\python311\\lib\\site-packages (from vectorshift) (3.1)\n"
     ]
    },
    {
     "name": "stderr",
     "output_type": "stream",
     "text": [
      "\n",
      "[notice] A new release of pip is available: 23.3.2 -> 24.1.1\n",
      "[notice] To update, run: python.exe -m pip install --upgrade pip\n"
     ]
    }
   ],
   "source": [
    "! pip install vectorshift --upgrade"
   ]
  },
  {
   "cell_type": "markdown",
   "metadata": {},
   "source": [
    "## Pipeline Overview\n",
    "\n",
    "This pipeline takes two inputs, a document and a question. You will get answer from LLM based on context provided from the document.\n",
    "![alt text](images/document_search/1-overview.png \"pipeline overview\")\n"
   ]
  },
  {
   "cell_type": "code",
   "execution_count": 21,
   "metadata": {},
   "outputs": [],
   "source": [
    "import vectorshift as vs\n",
    "from vectorshift.node import InputNode, URLLoaderNode, TextNode, SemanticSearchNode, OpenAILLMNode, OutputNode, ChatMemoryNode\n",
    "from vectorshift.pipeline import Pipeline\n",
    "from vectorshift.knowledge_base import *"
   ]
  },
  {
   "cell_type": "code",
   "execution_count": 22,
   "metadata": {},
   "outputs": [],
   "source": [
    "vs_api_key = \"YOUR_API_KEY_HERE\"\n",
    "vs.api_key = vs_api_key"
   ]
  },
  {
   "cell_type": "markdown",
   "metadata": {},
   "source": [
    "## Input Nodes\n",
    "Input seperated into two, document input and question. File loader is included in file loader, so you dont need to define it.\n",
    "![alt text](images/document_search/2-inputs.png)"
   ]
  },
  {
   "cell_type": "code",
   "execution_count": 23,
   "metadata": {},
   "outputs": [],
   "source": [
    "questions_input = InputNode(name=\"question\",input_type=\"text\")\n",
    "document_input = InputNode(name=\"document_input\",input_type=\"file\", process_files=True)"
   ]
  },
  {
   "cell_type": "code",
   "execution_count": 24,
   "metadata": {},
   "outputs": [],
   "source": [
    "search_node = SemanticSearchNode(\n",
    "    query_input=[questions_input.output()],\n",
    "    documents_input=[document_input.output()], \n",
    "    max_docs_per_query=4)"
   ]
  },
  {
   "cell_type": "code",
   "execution_count": 25,
   "metadata": {},
   "outputs": [],
   "source": [
    "system_text = \"\"\"You are a helpful assistant that answers User Question based on Context\"\"\"\n",
    "system_text_node = TextNode(text=system_text)"
   ]
  },
  {
   "cell_type": "code",
   "execution_count": 26,
   "metadata": {},
   "outputs": [],
   "source": [
    "llm = OpenAILLMNode(\n",
    "    model=\"gpt-3.5-turbo\",\n",
    "    system_input=system_text_node.output(),\n",
    "    prompt_input=questions_input.output(),\n",
    "    text_inputs={\"context\":search_node.output()}\n",
    "    )"
   ]
  },
  {
   "cell_type": "code",
   "execution_count": 27,
   "metadata": {},
   "outputs": [],
   "source": [
    "output_node = OutputNode(name=\"output\",output_type=\"text\",input=llm.output())"
   ]
  },
  {
   "cell_type": "markdown",
   "metadata": {},
   "source": [
    "## Deploy Pipeline"
   ]
  },
  {
   "cell_type": "code",
   "execution_count": 30,
   "metadata": {},
   "outputs": [],
   "source": [
    "document_search_pipeline_nodes = [\n",
    "    document_input, questions_input, search_node, llm, system_text_node, output_node\n",
    "]"
   ]
  },
  {
   "cell_type": "code",
   "execution_count": 31,
   "metadata": {},
   "outputs": [],
   "source": [
    "document_search_pipeline = Pipeline(\n",
    "    name=\"Document Search with Vectorshift\",\n",
    "    description=\"Ask your document questions and get answers\",\n",
    "    nodes=document_search_pipeline_nodes\n",
    ")"
   ]
  },
  {
   "cell_type": "code",
   "execution_count": 33,
   "metadata": {},
   "outputs": [
    {
     "name": "stdout",
     "output_type": "stream",
     "text": [
      "Successfully saved pipeline.\n"
     ]
    },
    {
     "ename": "AttributeError",
     "evalue": "'dict' object has no attribute 'json'",
     "output_type": "error",
     "traceback": [
      "\u001b[1;31m---------------------------------------------------------------------------\u001b[0m",
      "\u001b[1;31mAttributeError\u001b[0m                            Traceback (most recent call last)",
      "Cell \u001b[1;32mIn[33], line 5\u001b[0m\n\u001b[0;32m      1\u001b[0m config \u001b[38;5;241m=\u001b[39m vectorshift\u001b[38;5;241m.\u001b[39mdeploy\u001b[38;5;241m.\u001b[39mConfig(\n\u001b[0;32m      2\u001b[0m     api_key\u001b[38;5;241m=\u001b[39mvs_api_key,\n\u001b[0;32m      3\u001b[0m )\n\u001b[1;32m----> 5\u001b[0m \u001b[43mconfig\u001b[49m\u001b[38;5;241;43m.\u001b[39;49m\u001b[43msave_new_pipeline\u001b[49m\u001b[43m(\u001b[49m\u001b[43mdocument_search_pipeline\u001b[49m\u001b[43m)\u001b[49m\n",
      "File \u001b[1;32mc:\\Users\\paras\\AppData\\Local\\Programs\\Python\\Python311\\Lib\\site-packages\\vectorshift\\deploy.py:95\u001b[0m, in \u001b[0;36mConfig.save_new_pipeline\u001b[1;34m(self, pipeline)\u001b[0m\n\u001b[0;32m     81\u001b[0m \u001b[38;5;250m\u001b[39m\u001b[38;5;124;03m\"\"\"Save a new pipeline to the VectorShift platform. This is equivalent to using the Pipeline.save method.\u001b[39;00m\n\u001b[0;32m     82\u001b[0m \n\u001b[0;32m     83\u001b[0m \u001b[38;5;124;03mParameters:\u001b[39;00m\n\u001b[1;32m   (...)\u001b[0m\n\u001b[0;32m     87\u001b[0m \u001b[38;5;124;03m    dict: The JSON response from the VectorShift platform, including the representation of the saved pipeline.\u001b[39;00m\n\u001b[0;32m     88\u001b[0m \u001b[38;5;124;03m\"\"\"\u001b[39;00m\n\u001b[0;32m     89\u001b[0m response \u001b[38;5;241m=\u001b[39m pipeline\u001b[38;5;241m.\u001b[39msave(\n\u001b[0;32m     90\u001b[0m     api_key\u001b[38;5;241m=\u001b[39m\u001b[38;5;28mself\u001b[39m\u001b[38;5;241m.\u001b[39mapi_key,\n\u001b[0;32m     91\u001b[0m     public_key\u001b[38;5;241m=\u001b[39m\u001b[38;5;28mself\u001b[39m\u001b[38;5;241m.\u001b[39mpublic_key,\n\u001b[0;32m     92\u001b[0m     private_key\u001b[38;5;241m=\u001b[39m\u001b[38;5;28mself\u001b[39m\u001b[38;5;241m.\u001b[39mprivate_key,\n\u001b[0;32m     93\u001b[0m     update_existing\u001b[38;5;241m=\u001b[39m\u001b[38;5;28;01mFalse\u001b[39;00m,\n\u001b[0;32m     94\u001b[0m )\n\u001b[1;32m---> 95\u001b[0m \u001b[38;5;28;01mreturn\u001b[39;00m \u001b[43mresponse\u001b[49m\u001b[38;5;241;43m.\u001b[39;49m\u001b[43mjson\u001b[49m()\n",
      "\u001b[1;31mAttributeError\u001b[0m: 'dict' object has no attribute 'json'"
     ]
    }
   ],
   "source": [
    "config = vectorshift.deploy.Config(\n",
    "    api_key=vs_api_key,\n",
    ")\n",
    "\n",
    "config.save_new_pipeline(document_search_pipeline)"
   ]
  },
  {
   "cell_type": "markdown",
   "metadata": {},
   "source": [
    "## Run The Pipeline"
   ]
  },
  {
   "cell_type": "code",
   "execution_count": 37,
   "metadata": {},
   "outputs": [
    {
     "name": "stdout",
     "output_type": "stream",
     "text": [
      "{}\n"
     ]
    }
   ],
   "source": [
    "pipeline = Pipeline.fetch(pipeline_name='Document Search with Vectorshift')\n",
    "\n",
    "response = pipeline.run(\n",
    "    inputs = {\"question\": \"What is Ekki's last name?\", \"document_input\": \"cv.pdf\"},\n",
    "    api_key= vs_api_key\n",
    ")\n",
    "\n",
    "print(response)"
   ]
  }
 ],
 "metadata": {
  "kernelspec": {
   "display_name": "Python 3",
   "language": "python",
   "name": "python3"
  },
  "language_info": {
   "codemirror_mode": {
    "name": "ipython",
    "version": 3
   },
   "file_extension": ".py",
   "mimetype": "text/x-python",
   "name": "python",
   "nbconvert_exporter": "python",
   "pygments_lexer": "ipython3",
   "version": "3.11.7"
  }
 },
 "nbformat": 4,
 "nbformat_minor": 2
}
