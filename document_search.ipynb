{
 "cells": [
  {
   "cell_type": "markdown",
   "metadata": {},
   "source": [
    "# Document Search Pipeline\n",
    "\n",
    "Ask anything related to documment and get answer based on the context from document."
   ]
  },
  {
   "cell_type": "code",
   "execution_count": 13,
   "metadata": {},
   "outputs": [
    {
     "name": "stdout",
     "output_type": "stream",
     "text": [
      "Requirement already satisfied: vectorshift in /opt/anaconda3/lib/python3.11/site-packages (0.0.69)\n",
      "Requirement already satisfied: networkx==3.1 in /opt/anaconda3/lib/python3.11/site-packages (from vectorshift) (3.1)\n"
     ]
    }
   ],
   "source": [
    "! pip install vectorshift --upgrade"
   ]
  },
  {
   "cell_type": "markdown",
   "metadata": {},
   "source": [
    "## Pipeline Overview\n",
    "\n",
    "This pipeline takes two inputs, a document and a question. You will get answer from LLM based on context provided from the document.\n",
    "![alt text](images/document_search/1-overview.png \"pipeline overview\")\n"
   ]
  },
  {
   "cell_type": "code",
   "execution_count": 14,
   "metadata": {},
   "outputs": [],
   "source": [
    "import vectorshift as vs\n",
    "from vectorshift.node import InputNode, URLLoaderNode, TextNode, SemanticSearchNode, OpenAILLMNode, OutputNode, ChatMemoryNode\n",
    "from vectorshift.pipeline import Pipeline\n",
    "from vectorshift.knowledge_base import *"
   ]
  },
  {
   "cell_type": "code",
   "execution_count": 15,
   "metadata": {},
   "outputs": [],
   "source": [
    "vs_api_key =\"YOUR_API_KEY\""
   ]
  },
  {
   "cell_type": "markdown",
   "metadata": {},
   "source": [
    "## Input Nodes\n",
    "Input seperated into two, document input and question. File loader is included in file loader, so you dont need to define it.\n",
    "![alt text](images/document_search/2-inputs.png)"
   ]
  },
  {
   "cell_type": "code",
   "execution_count": 16,
   "metadata": {},
   "outputs": [],
   "source": [
    "questions_input = InputNode(name=\"question\",input_type=\"text\")\n",
    "document_input = InputNode(name=\"document_input\",input_type=\"file\", process_files=True)"
   ]
  },
  {
   "cell_type": "code",
   "execution_count": 17,
   "metadata": {},
   "outputs": [],
   "source": [
    "search_node = SemanticSearchNode(\n",
    "    query_input=[questions_input.output()],\n",
    "    documents_input=[document_input.output()], \n",
    "    max_docs_per_query=4)"
   ]
  },
  {
   "cell_type": "code",
   "execution_count": 18,
   "metadata": {},
   "outputs": [],
   "source": [
    "system_text = \"\"\"You are a helpful assistant that answers User Question based on Context\"\"\"\n",
    "system_text_node = TextNode(text=system_text)"
   ]
  },
  {
   "cell_type": "code",
   "execution_count": 19,
   "metadata": {},
   "outputs": [],
   "source": [
    "llm = OpenAILLMNode(\n",
    "    model=\"gpt-3.5-turbo\",\n",
    "    system_input=system_text_node.output(),\n",
    "    prompt_input='User Question\\n{{User_Question}}\\n\\n\\nContext\\n{{Context}}',\n",
    "    max_tokens=4000,\n",
    "    text_inputs={'User_Question': questions_input.output(), 'Context': search_node.output()}\n",
    "    )"
   ]
  },
  {
   "cell_type": "code",
   "execution_count": 20,
   "metadata": {},
   "outputs": [],
   "source": [
    "output_node = OutputNode(name=\"output\",output_type=\"text\",input=llm.output())"
   ]
  },
  {
   "cell_type": "markdown",
   "metadata": {},
   "source": [
    "## Deploy Pipeline"
   ]
  },
  {
   "cell_type": "code",
   "execution_count": 21,
   "metadata": {},
   "outputs": [],
   "source": [
    "document_search_pipeline_nodes = [\n",
    "    document_input, questions_input, search_node, llm, system_text_node, output_node\n",
    "]"
   ]
  },
  {
   "cell_type": "code",
   "execution_count": 22,
   "metadata": {},
   "outputs": [],
   "source": [
    "document_search_pipeline = Pipeline(\n",
    "    name=\"Document Search with Vectorshift\",\n",
    "    description=\"Ask your document questions and get answers\",\n",
    "    nodes=document_search_pipeline_nodes\n",
    ")"
   ]
  },
  {
   "cell_type": "code",
   "execution_count": 23,
   "metadata": {},
   "outputs": [
    {
     "name": "stdout",
     "output_type": "stream",
     "text": [
      "Successfully saved pipeline with ID 668eb54ea9e3a72447b7d36e.\n"
     ]
    },
    {
     "data": {
      "text/plain": [
       "{'pipeline': {'name': 'Document Search with Vectorshift',\n",
       "  'description': 'Ask your document questions and get answers',\n",
       "  'nodes': [{'id': 'customInput-1',\n",
       "    'type': 'customInput',\n",
       "    'data': {'id': 'customInput-1',\n",
       "     'nodeType': 'customInput',\n",
       "     'category': 'input',\n",
       "     'task_name': 'input',\n",
       "     'inputName': 'document_input',\n",
       "     'inputType': 'File',\n",
       "     'processFiles': True},\n",
       "    'position': {'x': 0, 'y': -400},\n",
       "    'positionAbsolute': {'x': 0, 'y': -400},\n",
       "    'selected': False,\n",
       "    'dragging': False},\n",
       "   {'id': 'customInput-2',\n",
       "    'type': 'customInput',\n",
       "    'data': {'id': 'customInput-2',\n",
       "     'nodeType': 'customInput',\n",
       "     'category': 'input',\n",
       "     'task_name': 'input',\n",
       "     'inputName': 'question',\n",
       "     'inputType': 'Text'},\n",
       "    'position': {'x': 0, 'y': 0},\n",
       "    'positionAbsolute': {'x': 0, 'y': 0},\n",
       "    'selected': False,\n",
       "    'dragging': False},\n",
       "   {'id': 'vectorQuery-1',\n",
       "    'type': 'vectorQuery',\n",
       "    'data': {'id': 'vectorQuery-1',\n",
       "     'nodeType': 'vectorQuery',\n",
       "     'category': 'task',\n",
       "     'task_name': 'load_and_query_vector_db',\n",
       "     'function': 'default',\n",
       "     'maxDocsPerQuery': 4,\n",
       "     'numQueries': 1,\n",
       "     'enableFilter': False,\n",
       "     'filter': None,\n",
       "     'rerankDocuments': False},\n",
       "    'position': {'x': 500, 'y': 50},\n",
       "    'positionAbsolute': {'x': 500, 'y': 50},\n",
       "    'selected': False,\n",
       "    'dragging': False},\n",
       "   {'id': 'llmOpenAI-1',\n",
       "    'type': 'llmOpenAI',\n",
       "    'data': {'id': 'llmOpenAI-1',\n",
       "     'nodeType': 'llmOpenAI',\n",
       "     'category': 'task',\n",
       "     'task_name': 'llm_openai',\n",
       "     'model': 'gpt-3.5-turbo',\n",
       "     'system': '',\n",
       "     'prompt': 'User Question\\n{{User_Question}}\\n\\n\\nContext\\n{{Context}}',\n",
       "     'maxTokens': 4000,\n",
       "     'temperature': '1.0',\n",
       "     'topP': '1.0',\n",
       "     'stream': False,\n",
       "     'jsonResponse': False,\n",
       "     'usePersonalAPIKey': False,\n",
       "     'apiKey': '',\n",
       "     'promptInputNames': ['User_Question', 'Context']},\n",
       "    'position': {'x': 1000, 'y': 50},\n",
       "    'positionAbsolute': {'x': 1000, 'y': 50},\n",
       "    'selected': False,\n",
       "    'dragging': False},\n",
       "   {'id': 'text-1',\n",
       "    'type': 'text',\n",
       "    'data': {'id': 'text-1',\n",
       "     'nodeType': 'text',\n",
       "     'category': 'task',\n",
       "     'task_name': 'text',\n",
       "     'text': 'You are a helpful assistant that answers User Question based on Context',\n",
       "     'inputNames': None,\n",
       "     'formatText': True},\n",
       "    'position': {'x': 0, 'y': 400},\n",
       "    'positionAbsolute': {'x': 0, 'y': 400},\n",
       "    'selected': False,\n",
       "    'dragging': False},\n",
       "   {'id': 'customOutput-1',\n",
       "    'type': 'customOutput',\n",
       "    'data': {'id': 'customOutput-1',\n",
       "     'nodeType': 'customOutput',\n",
       "     'category': 'output',\n",
       "     'task_name': 'output',\n",
       "     'outputName': 'output',\n",
       "     'outputType': 'Text'},\n",
       "    'position': {'x': 1500, 'y': 0},\n",
       "    'positionAbsolute': {'x': 1500, 'y': 0},\n",
       "    'selected': False,\n",
       "    'dragging': False}],\n",
       "  'edges': [{'source': 'customInput-2',\n",
       "    'sourceHandle': 'customInput-2-value',\n",
       "    'target': 'vectorQuery-1',\n",
       "    'targetHandle': 'vectorQuery-1-query-0',\n",
       "    'type': 'defaultEdge',\n",
       "    'id': 'reactflow__edge-customInput-2customInput-2-value-vectorQuery-1vectorQuery-1-query-0'},\n",
       "   {'source': 'customInput-1',\n",
       "    'sourceHandle': 'customInput-1-value',\n",
       "    'target': 'vectorQuery-1',\n",
       "    'targetHandle': 'vectorQuery-1-documents',\n",
       "    'type': 'defaultEdge',\n",
       "    'id': 'reactflow__edge-customInput-1customInput-1-value-vectorQuery-1vectorQuery-1-documents'},\n",
       "   {'source': 'text-1',\n",
       "    'sourceHandle': 'text-1-output',\n",
       "    'target': 'llmOpenAI-1',\n",
       "    'targetHandle': 'llmOpenAI-1-system',\n",
       "    'type': 'defaultEdge',\n",
       "    'id': 'reactflow__edge-text-1text-1-output-llmOpenAI-1llmOpenAI-1-system'},\n",
       "   {'source': 'customInput-2',\n",
       "    'sourceHandle': 'customInput-2-value',\n",
       "    'target': 'llmOpenAI-1',\n",
       "    'targetHandle': 'llmOpenAI-1-User_Question',\n",
       "    'type': 'defaultEdge',\n",
       "    'id': 'reactflow__edge-customInput-2customInput-2-value-llmOpenAI-1llmOpenAI-1-User_Question'},\n",
       "   {'source': 'vectorQuery-1',\n",
       "    'sourceHandle': 'vectorQuery-1-query-result-0',\n",
       "    'target': 'llmOpenAI-1',\n",
       "    'targetHandle': 'llmOpenAI-1-Context',\n",
       "    'type': 'defaultEdge',\n",
       "    'id': 'reactflow__edge-vectorQuery-1vectorQuery-1-query-result-0-llmOpenAI-1llmOpenAI-1-Context'},\n",
       "   {'source': 'llmOpenAI-1',\n",
       "    'sourceHandle': 'llmOpenAI-1-response',\n",
       "    'target': 'customOutput-1',\n",
       "    'targetHandle': 'customOutput-1-value',\n",
       "    'type': 'defaultEdge',\n",
       "    'id': 'reactflow__edge-llmOpenAI-1llmOpenAI-1-response-customOutput-1customOutput-1-value'}],\n",
       "  'inputs': {'customInput-1': {'name': 'document_input', 'type': 'File'},\n",
       "   'customInput-2': {'name': 'question', 'type': 'Text'}},\n",
       "  'outputs': {'customOutput-1': {'name': 'output', 'type': 'Text'}},\n",
       "  'nodeIDs': {'customInput': 2,\n",
       "   'vectorQuery': 1,\n",
       "   'llmOpenAI': 1,\n",
       "   'text': 1,\n",
       "   'customOutput': 1},\n",
       "  'zipOutputs': False,\n",
       "  'share_status': 'owned',\n",
       "  'createdDate': '2024-07-10T16:22:38.912985+00:00',\n",
       "  'modifiedDate': '2024-07-10T16:22:38.912988+00:00',\n",
       "  'userID': 'auth0|64cbd237b160e37c8c3510d4',\n",
       "  'orgID': 'Personal',\n",
       "  'username': 'ekkirinaldi',\n",
       "  'orgName': None,\n",
       "  'email': 'ekkirinaldi@gmail.com',\n",
       "  'sharedUsers': [],\n",
       "  'id': '668eb54ea9e3a72447b7d36e'},\n",
       " 'branch': {'nodes': [{'id': 'customInput-1',\n",
       "    'type': 'customInput',\n",
       "    'data': {'id': 'customInput-1',\n",
       "     'nodeType': 'customInput',\n",
       "     'category': 'input',\n",
       "     'task_name': 'input',\n",
       "     'inputName': 'document_input',\n",
       "     'inputType': 'File',\n",
       "     'processFiles': True},\n",
       "    'position': {'x': 0, 'y': -400},\n",
       "    'positionAbsolute': {'x': 0, 'y': -400},\n",
       "    'selected': False,\n",
       "    'dragging': False},\n",
       "   {'id': 'customInput-2',\n",
       "    'type': 'customInput',\n",
       "    'data': {'id': 'customInput-2',\n",
       "     'nodeType': 'customInput',\n",
       "     'category': 'input',\n",
       "     'task_name': 'input',\n",
       "     'inputName': 'question',\n",
       "     'inputType': 'Text'},\n",
       "    'position': {'x': 0, 'y': 0},\n",
       "    'positionAbsolute': {'x': 0, 'y': 0},\n",
       "    'selected': False,\n",
       "    'dragging': False},\n",
       "   {'id': 'vectorQuery-1',\n",
       "    'type': 'vectorQuery',\n",
       "    'data': {'id': 'vectorQuery-1',\n",
       "     'nodeType': 'vectorQuery',\n",
       "     'category': 'task',\n",
       "     'task_name': 'load_and_query_vector_db',\n",
       "     'function': 'default',\n",
       "     'maxDocsPerQuery': 4,\n",
       "     'numQueries': 1,\n",
       "     'enableFilter': False,\n",
       "     'filter': None,\n",
       "     'rerankDocuments': False},\n",
       "    'position': {'x': 500, 'y': 50},\n",
       "    'positionAbsolute': {'x': 500, 'y': 50},\n",
       "    'selected': False,\n",
       "    'dragging': False},\n",
       "   {'id': 'llmOpenAI-1',\n",
       "    'type': 'llmOpenAI',\n",
       "    'data': {'id': 'llmOpenAI-1',\n",
       "     'nodeType': 'llmOpenAI',\n",
       "     'category': 'task',\n",
       "     'task_name': 'llm_openai',\n",
       "     'model': 'gpt-3.5-turbo',\n",
       "     'system': '',\n",
       "     'prompt': 'User Question\\n{{User_Question}}\\n\\n\\nContext\\n{{Context}}',\n",
       "     'maxTokens': 4000,\n",
       "     'temperature': '1.0',\n",
       "     'topP': '1.0',\n",
       "     'stream': False,\n",
       "     'jsonResponse': False,\n",
       "     'usePersonalAPIKey': False,\n",
       "     'apiKey': '',\n",
       "     'promptInputNames': ['User_Question', 'Context']},\n",
       "    'position': {'x': 1000, 'y': 50},\n",
       "    'positionAbsolute': {'x': 1000, 'y': 50},\n",
       "    'selected': False,\n",
       "    'dragging': False},\n",
       "   {'id': 'text-1',\n",
       "    'type': 'text',\n",
       "    'data': {'id': 'text-1',\n",
       "     'nodeType': 'text',\n",
       "     'category': 'task',\n",
       "     'task_name': 'text',\n",
       "     'text': 'You are a helpful assistant that answers User Question based on Context',\n",
       "     'inputNames': None,\n",
       "     'formatText': True},\n",
       "    'position': {'x': 0, 'y': 400},\n",
       "    'positionAbsolute': {'x': 0, 'y': 400},\n",
       "    'selected': False,\n",
       "    'dragging': False},\n",
       "   {'id': 'customOutput-1',\n",
       "    'type': 'customOutput',\n",
       "    'data': {'id': 'customOutput-1',\n",
       "     'nodeType': 'customOutput',\n",
       "     'category': 'output',\n",
       "     'task_name': 'output',\n",
       "     'outputName': 'output',\n",
       "     'outputType': 'Text'},\n",
       "    'position': {'x': 1500, 'y': 0},\n",
       "    'positionAbsolute': {'x': 1500, 'y': 0},\n",
       "    'selected': False,\n",
       "    'dragging': False}],\n",
       "  'edges': [{'source': 'customInput-2',\n",
       "    'sourceHandle': 'customInput-2-value',\n",
       "    'target': 'vectorQuery-1',\n",
       "    'targetHandle': 'vectorQuery-1-query-0',\n",
       "    'type': 'defaultEdge',\n",
       "    'id': 'reactflow__edge-customInput-2customInput-2-value-vectorQuery-1vectorQuery-1-query-0'},\n",
       "   {'source': 'customInput-1',\n",
       "    'sourceHandle': 'customInput-1-value',\n",
       "    'target': 'vectorQuery-1',\n",
       "    'targetHandle': 'vectorQuery-1-documents',\n",
       "    'type': 'defaultEdge',\n",
       "    'id': 'reactflow__edge-customInput-1customInput-1-value-vectorQuery-1vectorQuery-1-documents'},\n",
       "   {'source': 'text-1',\n",
       "    'sourceHandle': 'text-1-output',\n",
       "    'target': 'llmOpenAI-1',\n",
       "    'targetHandle': 'llmOpenAI-1-system',\n",
       "    'type': 'defaultEdge',\n",
       "    'id': 'reactflow__edge-text-1text-1-output-llmOpenAI-1llmOpenAI-1-system'},\n",
       "   {'source': 'customInput-2',\n",
       "    'sourceHandle': 'customInput-2-value',\n",
       "    'target': 'llmOpenAI-1',\n",
       "    'targetHandle': 'llmOpenAI-1-User_Question',\n",
       "    'type': 'defaultEdge',\n",
       "    'id': 'reactflow__edge-customInput-2customInput-2-value-llmOpenAI-1llmOpenAI-1-User_Question'},\n",
       "   {'source': 'vectorQuery-1',\n",
       "    'sourceHandle': 'vectorQuery-1-query-result-0',\n",
       "    'target': 'llmOpenAI-1',\n",
       "    'targetHandle': 'llmOpenAI-1-Context',\n",
       "    'type': 'defaultEdge',\n",
       "    'id': 'reactflow__edge-vectorQuery-1vectorQuery-1-query-result-0-llmOpenAI-1llmOpenAI-1-Context'},\n",
       "   {'source': 'llmOpenAI-1',\n",
       "    'sourceHandle': 'llmOpenAI-1-response',\n",
       "    'target': 'customOutput-1',\n",
       "    'targetHandle': 'customOutput-1-value',\n",
       "    'type': 'defaultEdge',\n",
       "    'id': 'reactflow__edge-llmOpenAI-1llmOpenAI-1-response-customOutput-1customOutput-1-value'}],\n",
       "  'pipelineId': '668eb54ea9e3a72447b7d36e',\n",
       "  'userId': 'auth0|64cbd237b160e37c8c3510d4',\n",
       "  'orgId': 'Personal',\n",
       "  'id': '668eb54ea9e3a72447b7d36f'}}"
      ]
     },
     "execution_count": 23,
     "metadata": {},
     "output_type": "execute_result"
    }
   ],
   "source": [
    "config = vectorshift.deploy.Config(\n",
    "    api_key=vs_api_key,\n",
    ")\n",
    "\n",
    "config.save_new_pipeline(document_search_pipeline)"
   ]
  },
  {
   "cell_type": "markdown",
   "metadata": {},
   "source": [
    "## Run The Pipeline"
   ]
  },
  {
   "cell_type": "code",
   "execution_count": 24,
   "metadata": {},
   "outputs": [
    {
     "name": "stdout",
     "output_type": "stream",
     "text": [
      "{}\n"
     ]
    }
   ],
   "source": [
    "pipeline = Pipeline.fetch(pipeline_name='Document Search with Vectorshift', api_key=vs_api_key)\n",
    "\n",
    "response = pipeline.run(\n",
    "    inputs = {\"question\": \"What is Ekki's last name?\", \"document_input\": \"email.csv\"},\n",
    "    api_key= vs_api_key\n",
    ")\n",
    "\n",
    "print(response)"
   ]
  }
 ],
 "metadata": {
  "kernelspec": {
   "display_name": "Python 3",
   "language": "python",
   "name": "python3"
  },
  "language_info": {
   "codemirror_mode": {
    "name": "ipython",
    "version": 3
   },
   "file_extension": ".py",
   "mimetype": "text/x-python",
   "name": "python",
   "nbconvert_exporter": "python",
   "pygments_lexer": "ipython3",
   "version": "3.11.7"
  }
 },
 "nbformat": 4,
 "nbformat_minor": 2
}
